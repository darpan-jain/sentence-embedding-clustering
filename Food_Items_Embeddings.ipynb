{
 "nbformat": 4,
 "nbformat_minor": 0,
 "metadata": {
  "colab": {
   "name": "Food Items Embeddings.ipynb",
   "provenance": [],
   "toc_visible": true
  },
  "kernelspec": {
   "name": "python3",
   "display_name": "Python 3"
  },
  "language_info": {
   "name": "python"
  },
  "accelerator": "GPU",
  "gpuClass": "standard",
  "widgets": {
   "application/vnd.jupyter.widget-state+json": {
    "a82ddec0f4b3430b9599eeece89e364f": {
     "model_module": "@jupyter-widgets/controls",
     "model_name": "HBoxModel",
     "model_module_version": "1.5.0",
     "state": {
      "_dom_classes": [],
      "_model_module": "@jupyter-widgets/controls",
      "_model_module_version": "1.5.0",
      "_model_name": "HBoxModel",
      "_view_count": null,
      "_view_module": "@jupyter-widgets/controls",
      "_view_module_version": "1.5.0",
      "_view_name": "HBoxView",
      "box_style": "",
      "children": [
       "IPY_MODEL_daed5635db514b658d00969021da8a28",
       "IPY_MODEL_b131be7a24ae41b1b6f84886243e7d5d",
       "IPY_MODEL_f4d6112a598c4549ac541db685340228"
      ],
      "layout": "IPY_MODEL_54304d04aa004dfa9f34f92d90006159"
     }
    },
    "daed5635db514b658d00969021da8a28": {
     "model_module": "@jupyter-widgets/controls",
     "model_name": "HTMLModel",
     "model_module_version": "1.5.0",
     "state": {
      "_dom_classes": [],
      "_model_module": "@jupyter-widgets/controls",
      "_model_module_version": "1.5.0",
      "_model_name": "HTMLModel",
      "_view_count": null,
      "_view_module": "@jupyter-widgets/controls",
      "_view_module_version": "1.5.0",
      "_view_name": "HTMLView",
      "description": "",
      "description_tooltip": null,
      "layout": "IPY_MODEL_1106289f0cdd4679a9d6e4f5d237f017",
      "placeholder": "​",
      "style": "IPY_MODEL_fb4aa75335c44390be583fa969ec808f",
      "value": "Epoch: 100%"
     }
    },
    "b131be7a24ae41b1b6f84886243e7d5d": {
     "model_module": "@jupyter-widgets/controls",
     "model_name": "FloatProgressModel",
     "model_module_version": "1.5.0",
     "state": {
      "_dom_classes": [],
      "_model_module": "@jupyter-widgets/controls",
      "_model_module_version": "1.5.0",
      "_model_name": "FloatProgressModel",
      "_view_count": null,
      "_view_module": "@jupyter-widgets/controls",
      "_view_module_version": "1.5.0",
      "_view_name": "ProgressView",
      "bar_style": "success",
      "description": "",
      "description_tooltip": null,
      "layout": "IPY_MODEL_dfffd6efa0ff4fbb937abc6a45804cdd",
      "max": 2,
      "min": 0,
      "orientation": "horizontal",
      "style": "IPY_MODEL_d615f74aea0340d283e6b00564d7c553",
      "value": 2
     }
    },
    "f4d6112a598c4549ac541db685340228": {
     "model_module": "@jupyter-widgets/controls",
     "model_name": "HTMLModel",
     "model_module_version": "1.5.0",
     "state": {
      "_dom_classes": [],
      "_model_module": "@jupyter-widgets/controls",
      "_model_module_version": "1.5.0",
      "_model_name": "HTMLModel",
      "_view_count": null,
      "_view_module": "@jupyter-widgets/controls",
      "_view_module_version": "1.5.0",
      "_view_name": "HTMLView",
      "description": "",
      "description_tooltip": null,
      "layout": "IPY_MODEL_2470d837abf5433098f1eebe2d3a0c13",
      "placeholder": "​",
      "style": "IPY_MODEL_4bdc30499d064f2593acd9f290d680cc",
      "value": " 2/2 [00:57&lt;00:00, 28.61s/it]"
     }
    },
    "54304d04aa004dfa9f34f92d90006159": {
     "model_module": "@jupyter-widgets/base",
     "model_name": "LayoutModel",
     "model_module_version": "1.2.0",
     "state": {
      "_model_module": "@jupyter-widgets/base",
      "_model_module_version": "1.2.0",
      "_model_name": "LayoutModel",
      "_view_count": null,
      "_view_module": "@jupyter-widgets/base",
      "_view_module_version": "1.2.0",
      "_view_name": "LayoutView",
      "align_content": null,
      "align_items": null,
      "align_self": null,
      "border": null,
      "bottom": null,
      "display": null,
      "flex": null,
      "flex_flow": null,
      "grid_area": null,
      "grid_auto_columns": null,
      "grid_auto_flow": null,
      "grid_auto_rows": null,
      "grid_column": null,
      "grid_gap": null,
      "grid_row": null,
      "grid_template_areas": null,
      "grid_template_columns": null,
      "grid_template_rows": null,
      "height": null,
      "justify_content": null,
      "justify_items": null,
      "left": null,
      "margin": null,
      "max_height": null,
      "max_width": null,
      "min_height": null,
      "min_width": null,
      "object_fit": null,
      "object_position": null,
      "order": null,
      "overflow": null,
      "overflow_x": null,
      "overflow_y": null,
      "padding": null,
      "right": null,
      "top": null,
      "visibility": null,
      "width": null
     }
    },
    "1106289f0cdd4679a9d6e4f5d237f017": {
     "model_module": "@jupyter-widgets/base",
     "model_name": "LayoutModel",
     "model_module_version": "1.2.0",
     "state": {
      "_model_module": "@jupyter-widgets/base",
      "_model_module_version": "1.2.0",
      "_model_name": "LayoutModel",
      "_view_count": null,
      "_view_module": "@jupyter-widgets/base",
      "_view_module_version": "1.2.0",
      "_view_name": "LayoutView",
      "align_content": null,
      "align_items": null,
      "align_self": null,
      "border": null,
      "bottom": null,
      "display": null,
      "flex": null,
      "flex_flow": null,
      "grid_area": null,
      "grid_auto_columns": null,
      "grid_auto_flow": null,
      "grid_auto_rows": null,
      "grid_column": null,
      "grid_gap": null,
      "grid_row": null,
      "grid_template_areas": null,
      "grid_template_columns": null,
      "grid_template_rows": null,
      "height": null,
      "justify_content": null,
      "justify_items": null,
      "left": null,
      "margin": null,
      "max_height": null,
      "max_width": null,
      "min_height": null,
      "min_width": null,
      "object_fit": null,
      "object_position": null,
      "order": null,
      "overflow": null,
      "overflow_x": null,
      "overflow_y": null,
      "padding": null,
      "right": null,
      "top": null,
      "visibility": null,
      "width": null
     }
    },
    "fb4aa75335c44390be583fa969ec808f": {
     "model_module": "@jupyter-widgets/controls",
     "model_name": "DescriptionStyleModel",
     "model_module_version": "1.5.0",
     "state": {
      "_model_module": "@jupyter-widgets/controls",
      "_model_module_version": "1.5.0",
      "_model_name": "DescriptionStyleModel",
      "_view_count": null,
      "_view_module": "@jupyter-widgets/base",
      "_view_module_version": "1.2.0",
      "_view_name": "StyleView",
      "description_width": ""
     }
    },
    "dfffd6efa0ff4fbb937abc6a45804cdd": {
     "model_module": "@jupyter-widgets/base",
     "model_name": "LayoutModel",
     "model_module_version": "1.2.0",
     "state": {
      "_model_module": "@jupyter-widgets/base",
      "_model_module_version": "1.2.0",
      "_model_name": "LayoutModel",
      "_view_count": null,
      "_view_module": "@jupyter-widgets/base",
      "_view_module_version": "1.2.0",
      "_view_name": "LayoutView",
      "align_content": null,
      "align_items": null,
      "align_self": null,
      "border": null,
      "bottom": null,
      "display": null,
      "flex": null,
      "flex_flow": null,
      "grid_area": null,
      "grid_auto_columns": null,
      "grid_auto_flow": null,
      "grid_auto_rows": null,
      "grid_column": null,
      "grid_gap": null,
      "grid_row": null,
      "grid_template_areas": null,
      "grid_template_columns": null,
      "grid_template_rows": null,
      "height": null,
      "justify_content": null,
      "justify_items": null,
      "left": null,
      "margin": null,
      "max_height": null,
      "max_width": null,
      "min_height": null,
      "min_width": null,
      "object_fit": null,
      "object_position": null,
      "order": null,
      "overflow": null,
      "overflow_x": null,
      "overflow_y": null,
      "padding": null,
      "right": null,
      "top": null,
      "visibility": null,
      "width": null
     }
    },
    "d615f74aea0340d283e6b00564d7c553": {
     "model_module": "@jupyter-widgets/controls",
     "model_name": "ProgressStyleModel",
     "model_module_version": "1.5.0",
     "state": {
      "_model_module": "@jupyter-widgets/controls",
      "_model_module_version": "1.5.0",
      "_model_name": "ProgressStyleModel",
      "_view_count": null,
      "_view_module": "@jupyter-widgets/base",
      "_view_module_version": "1.2.0",
      "_view_name": "StyleView",
      "bar_color": null,
      "description_width": ""
     }
    },
    "2470d837abf5433098f1eebe2d3a0c13": {
     "model_module": "@jupyter-widgets/base",
     "model_name": "LayoutModel",
     "model_module_version": "1.2.0",
     "state": {
      "_model_module": "@jupyter-widgets/base",
      "_model_module_version": "1.2.0",
      "_model_name": "LayoutModel",
      "_view_count": null,
      "_view_module": "@jupyter-widgets/base",
      "_view_module_version": "1.2.0",
      "_view_name": "LayoutView",
      "align_content": null,
      "align_items": null,
      "align_self": null,
      "border": null,
      "bottom": null,
      "display": null,
      "flex": null,
      "flex_flow": null,
      "grid_area": null,
      "grid_auto_columns": null,
      "grid_auto_flow": null,
      "grid_auto_rows": null,
      "grid_column": null,
      "grid_gap": null,
      "grid_row": null,
      "grid_template_areas": null,
      "grid_template_columns": null,
      "grid_template_rows": null,
      "height": null,
      "justify_content": null,
      "justify_items": null,
      "left": null,
      "margin": null,
      "max_height": null,
      "max_width": null,
      "min_height": null,
      "min_width": null,
      "object_fit": null,
      "object_position": null,
      "order": null,
      "overflow": null,
      "overflow_x": null,
      "overflow_y": null,
      "padding": null,
      "right": null,
      "top": null,
      "visibility": null,
      "width": null
     }
    },
    "4bdc30499d064f2593acd9f290d680cc": {
     "model_module": "@jupyter-widgets/controls",
     "model_name": "DescriptionStyleModel",
     "model_module_version": "1.5.0",
     "state": {
      "_model_module": "@jupyter-widgets/controls",
      "_model_module_version": "1.5.0",
      "_model_name": "DescriptionStyleModel",
      "_view_count": null,
      "_view_module": "@jupyter-widgets/base",
      "_view_module_version": "1.2.0",
      "_view_name": "StyleView",
      "description_width": ""
     }
    },
    "19f086bcefb64849bb48b0870f425558": {
     "model_module": "@jupyter-widgets/controls",
     "model_name": "HBoxModel",
     "model_module_version": "1.5.0",
     "state": {
      "_dom_classes": [],
      "_model_module": "@jupyter-widgets/controls",
      "_model_module_version": "1.5.0",
      "_model_name": "HBoxModel",
      "_view_count": null,
      "_view_module": "@jupyter-widgets/controls",
      "_view_module_version": "1.5.0",
      "_view_name": "HBoxView",
      "box_style": "",
      "children": [
       "IPY_MODEL_f679ed2cf2834d12bc2e51abba8708ca",
       "IPY_MODEL_e06f5b68df0342e68f48404798edcc09",
       "IPY_MODEL_077574dfbb72439bba62b431049791e8"
      ],
      "layout": "IPY_MODEL_424956cd8d6341829aa91f8a34eca776"
     }
    },
    "f679ed2cf2834d12bc2e51abba8708ca": {
     "model_module": "@jupyter-widgets/controls",
     "model_name": "HTMLModel",
     "model_module_version": "1.5.0",
     "state": {
      "_dom_classes": [],
      "_model_module": "@jupyter-widgets/controls",
      "_model_module_version": "1.5.0",
      "_model_name": "HTMLModel",
      "_view_count": null,
      "_view_module": "@jupyter-widgets/controls",
      "_view_module_version": "1.5.0",
      "_view_name": "HTMLView",
      "description": "",
      "description_tooltip": null,
      "layout": "IPY_MODEL_fd6c43431a814e989d0b2af0fccd6b0e",
      "placeholder": "​",
      "style": "IPY_MODEL_49254994e57342679a96f683966fe1a0",
      "value": "Iteration: 100%"
     }
    },
    "e06f5b68df0342e68f48404798edcc09": {
     "model_module": "@jupyter-widgets/controls",
     "model_name": "FloatProgressModel",
     "model_module_version": "1.5.0",
     "state": {
      "_dom_classes": [],
      "_model_module": "@jupyter-widgets/controls",
      "_model_module_version": "1.5.0",
      "_model_name": "FloatProgressModel",
      "_view_count": null,
      "_view_module": "@jupyter-widgets/controls",
      "_view_module_version": "1.5.0",
      "_view_name": "ProgressView",
      "bar_style": "success",
      "description": "",
      "description_tooltip": null,
      "layout": "IPY_MODEL_0067c45182e240ea8182b7ee15de6538",
      "max": 43,
      "min": 0,
      "orientation": "horizontal",
      "style": "IPY_MODEL_4a5fefc40ae54393b463ce8f9ab4e680",
      "value": 43
     }
    },
    "077574dfbb72439bba62b431049791e8": {
     "model_module": "@jupyter-widgets/controls",
     "model_name": "HTMLModel",
     "model_module_version": "1.5.0",
     "state": {
      "_dom_classes": [],
      "_model_module": "@jupyter-widgets/controls",
      "_model_module_version": "1.5.0",
      "_model_name": "HTMLModel",
      "_view_count": null,
      "_view_module": "@jupyter-widgets/controls",
      "_view_module_version": "1.5.0",
      "_view_name": "HTMLView",
      "description": "",
      "description_tooltip": null,
      "layout": "IPY_MODEL_014893071874468faf99657d9e4dbef6",
      "placeholder": "​",
      "style": "IPY_MODEL_ed9acabe88c34fc5b176b764ef7ae506",
      "value": " 43/43 [00:30&lt;00:00,  1.46it/s]"
     }
    },
    "424956cd8d6341829aa91f8a34eca776": {
     "model_module": "@jupyter-widgets/base",
     "model_name": "LayoutModel",
     "model_module_version": "1.2.0",
     "state": {
      "_model_module": "@jupyter-widgets/base",
      "_model_module_version": "1.2.0",
      "_model_name": "LayoutModel",
      "_view_count": null,
      "_view_module": "@jupyter-widgets/base",
      "_view_module_version": "1.2.0",
      "_view_name": "LayoutView",
      "align_content": null,
      "align_items": null,
      "align_self": null,
      "border": null,
      "bottom": null,
      "display": null,
      "flex": null,
      "flex_flow": null,
      "grid_area": null,
      "grid_auto_columns": null,
      "grid_auto_flow": null,
      "grid_auto_rows": null,
      "grid_column": null,
      "grid_gap": null,
      "grid_row": null,
      "grid_template_areas": null,
      "grid_template_columns": null,
      "grid_template_rows": null,
      "height": null,
      "justify_content": null,
      "justify_items": null,
      "left": null,
      "margin": null,
      "max_height": null,
      "max_width": null,
      "min_height": null,
      "min_width": null,
      "object_fit": null,
      "object_position": null,
      "order": null,
      "overflow": null,
      "overflow_x": null,
      "overflow_y": null,
      "padding": null,
      "right": null,
      "top": null,
      "visibility": null,
      "width": null
     }
    },
    "fd6c43431a814e989d0b2af0fccd6b0e": {
     "model_module": "@jupyter-widgets/base",
     "model_name": "LayoutModel",
     "model_module_version": "1.2.0",
     "state": {
      "_model_module": "@jupyter-widgets/base",
      "_model_module_version": "1.2.0",
      "_model_name": "LayoutModel",
      "_view_count": null,
      "_view_module": "@jupyter-widgets/base",
      "_view_module_version": "1.2.0",
      "_view_name": "LayoutView",
      "align_content": null,
      "align_items": null,
      "align_self": null,
      "border": null,
      "bottom": null,
      "display": null,
      "flex": null,
      "flex_flow": null,
      "grid_area": null,
      "grid_auto_columns": null,
      "grid_auto_flow": null,
      "grid_auto_rows": null,
      "grid_column": null,
      "grid_gap": null,
      "grid_row": null,
      "grid_template_areas": null,
      "grid_template_columns": null,
      "grid_template_rows": null,
      "height": null,
      "justify_content": null,
      "justify_items": null,
      "left": null,
      "margin": null,
      "max_height": null,
      "max_width": null,
      "min_height": null,
      "min_width": null,
      "object_fit": null,
      "object_position": null,
      "order": null,
      "overflow": null,
      "overflow_x": null,
      "overflow_y": null,
      "padding": null,
      "right": null,
      "top": null,
      "visibility": null,
      "width": null
     }
    },
    "49254994e57342679a96f683966fe1a0": {
     "model_module": "@jupyter-widgets/controls",
     "model_name": "DescriptionStyleModel",
     "model_module_version": "1.5.0",
     "state": {
      "_model_module": "@jupyter-widgets/controls",
      "_model_module_version": "1.5.0",
      "_model_name": "DescriptionStyleModel",
      "_view_count": null,
      "_view_module": "@jupyter-widgets/base",
      "_view_module_version": "1.2.0",
      "_view_name": "StyleView",
      "description_width": ""
     }
    },
    "0067c45182e240ea8182b7ee15de6538": {
     "model_module": "@jupyter-widgets/base",
     "model_name": "LayoutModel",
     "model_module_version": "1.2.0",
     "state": {
      "_model_module": "@jupyter-widgets/base",
      "_model_module_version": "1.2.0",
      "_model_name": "LayoutModel",
      "_view_count": null,
      "_view_module": "@jupyter-widgets/base",
      "_view_module_version": "1.2.0",
      "_view_name": "LayoutView",
      "align_content": null,
      "align_items": null,
      "align_self": null,
      "border": null,
      "bottom": null,
      "display": null,
      "flex": null,
      "flex_flow": null,
      "grid_area": null,
      "grid_auto_columns": null,
      "grid_auto_flow": null,
      "grid_auto_rows": null,
      "grid_column": null,
      "grid_gap": null,
      "grid_row": null,
      "grid_template_areas": null,
      "grid_template_columns": null,
      "grid_template_rows": null,
      "height": null,
      "justify_content": null,
      "justify_items": null,
      "left": null,
      "margin": null,
      "max_height": null,
      "max_width": null,
      "min_height": null,
      "min_width": null,
      "object_fit": null,
      "object_position": null,
      "order": null,
      "overflow": null,
      "overflow_x": null,
      "overflow_y": null,
      "padding": null,
      "right": null,
      "top": null,
      "visibility": null,
      "width": null
     }
    },
    "4a5fefc40ae54393b463ce8f9ab4e680": {
     "model_module": "@jupyter-widgets/controls",
     "model_name": "ProgressStyleModel",
     "model_module_version": "1.5.0",
     "state": {
      "_model_module": "@jupyter-widgets/controls",
      "_model_module_version": "1.5.0",
      "_model_name": "ProgressStyleModel",
      "_view_count": null,
      "_view_module": "@jupyter-widgets/base",
      "_view_module_version": "1.2.0",
      "_view_name": "StyleView",
      "bar_color": null,
      "description_width": ""
     }
    },
    "014893071874468faf99657d9e4dbef6": {
     "model_module": "@jupyter-widgets/base",
     "model_name": "LayoutModel",
     "model_module_version": "1.2.0",
     "state": {
      "_model_module": "@jupyter-widgets/base",
      "_model_module_version": "1.2.0",
      "_model_name": "LayoutModel",
      "_view_count": null,
      "_view_module": "@jupyter-widgets/base",
      "_view_module_version": "1.2.0",
      "_view_name": "LayoutView",
      "align_content": null,
      "align_items": null,
      "align_self": null,
      "border": null,
      "bottom": null,
      "display": null,
      "flex": null,
      "flex_flow": null,
      "grid_area": null,
      "grid_auto_columns": null,
      "grid_auto_flow": null,
      "grid_auto_rows": null,
      "grid_column": null,
      "grid_gap": null,
      "grid_row": null,
      "grid_template_areas": null,
      "grid_template_columns": null,
      "grid_template_rows": null,
      "height": null,
      "justify_content": null,
      "justify_items": null,
      "left": null,
      "margin": null,
      "max_height": null,
      "max_width": null,
      "min_height": null,
      "min_width": null,
      "object_fit": null,
      "object_position": null,
      "order": null,
      "overflow": null,
      "overflow_x": null,
      "overflow_y": null,
      "padding": null,
      "right": null,
      "top": null,
      "visibility": null,
      "width": null
     }
    },
    "ed9acabe88c34fc5b176b764ef7ae506": {
     "model_module": "@jupyter-widgets/controls",
     "model_name": "DescriptionStyleModel",
     "model_module_version": "1.5.0",
     "state": {
      "_model_module": "@jupyter-widgets/controls",
      "_model_module_version": "1.5.0",
      "_model_name": "DescriptionStyleModel",
      "_view_count": null,
      "_view_module": "@jupyter-widgets/base",
      "_view_module_version": "1.2.0",
      "_view_name": "StyleView",
      "description_width": ""
     }
    },
    "c57ad620219547e0b58dd668d9835d90": {
     "model_module": "@jupyter-widgets/controls",
     "model_name": "HBoxModel",
     "model_module_version": "1.5.0",
     "state": {
      "_dom_classes": [],
      "_model_module": "@jupyter-widgets/controls",
      "_model_module_version": "1.5.0",
      "_model_name": "HBoxModel",
      "_view_count": null,
      "_view_module": "@jupyter-widgets/controls",
      "_view_module_version": "1.5.0",
      "_view_name": "HBoxView",
      "box_style": "",
      "children": [
       "IPY_MODEL_6975e3502f8a44ac9012f6b56ce2767c",
       "IPY_MODEL_9e7de4737a1c42eaa2acb86dc57f1e32",
       "IPY_MODEL_dc92ab08ef9b453ea75e7cb786abbf33"
      ],
      "layout": "IPY_MODEL_a8ebeb685ff941d2a1e2e1bfa8354b30"
     }
    },
    "6975e3502f8a44ac9012f6b56ce2767c": {
     "model_module": "@jupyter-widgets/controls",
     "model_name": "HTMLModel",
     "model_module_version": "1.5.0",
     "state": {
      "_dom_classes": [],
      "_model_module": "@jupyter-widgets/controls",
      "_model_module_version": "1.5.0",
      "_model_name": "HTMLModel",
      "_view_count": null,
      "_view_module": "@jupyter-widgets/controls",
      "_view_module_version": "1.5.0",
      "_view_name": "HTMLView",
      "description": "",
      "description_tooltip": null,
      "layout": "IPY_MODEL_cc684daeb0eb493da1f556c21b131c87",
      "placeholder": "​",
      "style": "IPY_MODEL_75290db0f5294cc2b6a48a40b1bd57bc",
      "value": "Iteration: 100%"
     }
    },
    "9e7de4737a1c42eaa2acb86dc57f1e32": {
     "model_module": "@jupyter-widgets/controls",
     "model_name": "FloatProgressModel",
     "model_module_version": "1.5.0",
     "state": {
      "_dom_classes": [],
      "_model_module": "@jupyter-widgets/controls",
      "_model_module_version": "1.5.0",
      "_model_name": "FloatProgressModel",
      "_view_count": null,
      "_view_module": "@jupyter-widgets/controls",
      "_view_module_version": "1.5.0",
      "_view_name": "ProgressView",
      "bar_style": "success",
      "description": "",
      "description_tooltip": null,
      "layout": "IPY_MODEL_4f5c9bc87ea446fbb71fc38861a64ac5",
      "max": 43,
      "min": 0,
      "orientation": "horizontal",
      "style": "IPY_MODEL_e01fd75020f54b0bbcf89f2429a12bec",
      "value": 43
     }
    },
    "dc92ab08ef9b453ea75e7cb786abbf33": {
     "model_module": "@jupyter-widgets/controls",
     "model_name": "HTMLModel",
     "model_module_version": "1.5.0",
     "state": {
      "_dom_classes": [],
      "_model_module": "@jupyter-widgets/controls",
      "_model_module_version": "1.5.0",
      "_model_name": "HTMLModel",
      "_view_count": null,
      "_view_module": "@jupyter-widgets/controls",
      "_view_module_version": "1.5.0",
      "_view_name": "HTMLView",
      "description": "",
      "description_tooltip": null,
      "layout": "IPY_MODEL_54e665c144f24596ad195fe39641366f",
      "placeholder": "​",
      "style": "IPY_MODEL_92faf16abcfe4415af3c7d8682dfc9b5",
      "value": " 43/43 [00:27&lt;00:00,  1.67it/s]"
     }
    },
    "a8ebeb685ff941d2a1e2e1bfa8354b30": {
     "model_module": "@jupyter-widgets/base",
     "model_name": "LayoutModel",
     "model_module_version": "1.2.0",
     "state": {
      "_model_module": "@jupyter-widgets/base",
      "_model_module_version": "1.2.0",
      "_model_name": "LayoutModel",
      "_view_count": null,
      "_view_module": "@jupyter-widgets/base",
      "_view_module_version": "1.2.0",
      "_view_name": "LayoutView",
      "align_content": null,
      "align_items": null,
      "align_self": null,
      "border": null,
      "bottom": null,
      "display": null,
      "flex": null,
      "flex_flow": null,
      "grid_area": null,
      "grid_auto_columns": null,
      "grid_auto_flow": null,
      "grid_auto_rows": null,
      "grid_column": null,
      "grid_gap": null,
      "grid_row": null,
      "grid_template_areas": null,
      "grid_template_columns": null,
      "grid_template_rows": null,
      "height": null,
      "justify_content": null,
      "justify_items": null,
      "left": null,
      "margin": null,
      "max_height": null,
      "max_width": null,
      "min_height": null,
      "min_width": null,
      "object_fit": null,
      "object_position": null,
      "order": null,
      "overflow": null,
      "overflow_x": null,
      "overflow_y": null,
      "padding": null,
      "right": null,
      "top": null,
      "visibility": null,
      "width": null
     }
    },
    "cc684daeb0eb493da1f556c21b131c87": {
     "model_module": "@jupyter-widgets/base",
     "model_name": "LayoutModel",
     "model_module_version": "1.2.0",
     "state": {
      "_model_module": "@jupyter-widgets/base",
      "_model_module_version": "1.2.0",
      "_model_name": "LayoutModel",
      "_view_count": null,
      "_view_module": "@jupyter-widgets/base",
      "_view_module_version": "1.2.0",
      "_view_name": "LayoutView",
      "align_content": null,
      "align_items": null,
      "align_self": null,
      "border": null,
      "bottom": null,
      "display": null,
      "flex": null,
      "flex_flow": null,
      "grid_area": null,
      "grid_auto_columns": null,
      "grid_auto_flow": null,
      "grid_auto_rows": null,
      "grid_column": null,
      "grid_gap": null,
      "grid_row": null,
      "grid_template_areas": null,
      "grid_template_columns": null,
      "grid_template_rows": null,
      "height": null,
      "justify_content": null,
      "justify_items": null,
      "left": null,
      "margin": null,
      "max_height": null,
      "max_width": null,
      "min_height": null,
      "min_width": null,
      "object_fit": null,
      "object_position": null,
      "order": null,
      "overflow": null,
      "overflow_x": null,
      "overflow_y": null,
      "padding": null,
      "right": null,
      "top": null,
      "visibility": null,
      "width": null
     }
    },
    "75290db0f5294cc2b6a48a40b1bd57bc": {
     "model_module": "@jupyter-widgets/controls",
     "model_name": "DescriptionStyleModel",
     "model_module_version": "1.5.0",
     "state": {
      "_model_module": "@jupyter-widgets/controls",
      "_model_module_version": "1.5.0",
      "_model_name": "DescriptionStyleModel",
      "_view_count": null,
      "_view_module": "@jupyter-widgets/base",
      "_view_module_version": "1.2.0",
      "_view_name": "StyleView",
      "description_width": ""
     }
    },
    "4f5c9bc87ea446fbb71fc38861a64ac5": {
     "model_module": "@jupyter-widgets/base",
     "model_name": "LayoutModel",
     "model_module_version": "1.2.0",
     "state": {
      "_model_module": "@jupyter-widgets/base",
      "_model_module_version": "1.2.0",
      "_model_name": "LayoutModel",
      "_view_count": null,
      "_view_module": "@jupyter-widgets/base",
      "_view_module_version": "1.2.0",
      "_view_name": "LayoutView",
      "align_content": null,
      "align_items": null,
      "align_self": null,
      "border": null,
      "bottom": null,
      "display": null,
      "flex": null,
      "flex_flow": null,
      "grid_area": null,
      "grid_auto_columns": null,
      "grid_auto_flow": null,
      "grid_auto_rows": null,
      "grid_column": null,
      "grid_gap": null,
      "grid_row": null,
      "grid_template_areas": null,
      "grid_template_columns": null,
      "grid_template_rows": null,
      "height": null,
      "justify_content": null,
      "justify_items": null,
      "left": null,
      "margin": null,
      "max_height": null,
      "max_width": null,
      "min_height": null,
      "min_width": null,
      "object_fit": null,
      "object_position": null,
      "order": null,
      "overflow": null,
      "overflow_x": null,
      "overflow_y": null,
      "padding": null,
      "right": null,
      "top": null,
      "visibility": null,
      "width": null
     }
    },
    "e01fd75020f54b0bbcf89f2429a12bec": {
     "model_module": "@jupyter-widgets/controls",
     "model_name": "ProgressStyleModel",
     "model_module_version": "1.5.0",
     "state": {
      "_model_module": "@jupyter-widgets/controls",
      "_model_module_version": "1.5.0",
      "_model_name": "ProgressStyleModel",
      "_view_count": null,
      "_view_module": "@jupyter-widgets/base",
      "_view_module_version": "1.2.0",
      "_view_name": "StyleView",
      "bar_color": null,
      "description_width": ""
     }
    },
    "54e665c144f24596ad195fe39641366f": {
     "model_module": "@jupyter-widgets/base",
     "model_name": "LayoutModel",
     "model_module_version": "1.2.0",
     "state": {
      "_model_module": "@jupyter-widgets/base",
      "_model_module_version": "1.2.0",
      "_model_name": "LayoutModel",
      "_view_count": null,
      "_view_module": "@jupyter-widgets/base",
      "_view_module_version": "1.2.0",
      "_view_name": "LayoutView",
      "align_content": null,
      "align_items": null,
      "align_self": null,
      "border": null,
      "bottom": null,
      "display": null,
      "flex": null,
      "flex_flow": null,
      "grid_area": null,
      "grid_auto_columns": null,
      "grid_auto_flow": null,
      "grid_auto_rows": null,
      "grid_column": null,
      "grid_gap": null,
      "grid_row": null,
      "grid_template_areas": null,
      "grid_template_columns": null,
      "grid_template_rows": null,
      "height": null,
      "justify_content": null,
      "justify_items": null,
      "left": null,
      "margin": null,
      "max_height": null,
      "max_width": null,
      "min_height": null,
      "min_width": null,
      "object_fit": null,
      "object_position": null,
      "order": null,
      "overflow": null,
      "overflow_x": null,
      "overflow_y": null,
      "padding": null,
      "right": null,
      "top": null,
      "visibility": null,
      "width": null
     }
    },
    "92faf16abcfe4415af3c7d8682dfc9b5": {
     "model_module": "@jupyter-widgets/controls",
     "model_name": "DescriptionStyleModel",
     "model_module_version": "1.5.0",
     "state": {
      "_model_module": "@jupyter-widgets/controls",
      "_model_module_version": "1.5.0",
      "_model_name": "DescriptionStyleModel",
      "_view_count": null,
      "_view_module": "@jupyter-widgets/base",
      "_view_module_version": "1.2.0",
      "_view_name": "StyleView",
      "description_width": ""
     }
    },
    "1720eed28a844b8faac86df36084dd5b": {
     "model_module": "@jupyter-widgets/controls",
     "model_name": "HBoxModel",
     "model_module_version": "1.5.0",
     "state": {
      "_dom_classes": [],
      "_model_module": "@jupyter-widgets/controls",
      "_model_module_version": "1.5.0",
      "_model_name": "HBoxModel",
      "_view_count": null,
      "_view_module": "@jupyter-widgets/controls",
      "_view_module_version": "1.5.0",
      "_view_name": "HBoxView",
      "box_style": "",
      "children": [
       "IPY_MODEL_6cb2b62b138c4daa84f7d1301f06b8a3",
       "IPY_MODEL_52c5886b38fb48f9bee674d3c9c9fb78",
       "IPY_MODEL_d37f62f4acda4568adf8646223cae6ad"
      ],
      "layout": "IPY_MODEL_7fad67bcc46041d18e0d0c01343e526f"
     }
    },
    "6cb2b62b138c4daa84f7d1301f06b8a3": {
     "model_module": "@jupyter-widgets/controls",
     "model_name": "HTMLModel",
     "model_module_version": "1.5.0",
     "state": {
      "_dom_classes": [],
      "_model_module": "@jupyter-widgets/controls",
      "_model_module_version": "1.5.0",
      "_model_name": "HTMLModel",
      "_view_count": null,
      "_view_module": "@jupyter-widgets/controls",
      "_view_module_version": "1.5.0",
      "_view_name": "HTMLView",
      "description": "",
      "description_tooltip": null,
      "layout": "IPY_MODEL_a04ae29d0737438aa355a60ccc506253",
      "placeholder": "​",
      "style": "IPY_MODEL_06df77b4d862480daf02fbda0658f377",
      "value": "Batches: 100%"
     }
    },
    "52c5886b38fb48f9bee674d3c9c9fb78": {
     "model_module": "@jupyter-widgets/controls",
     "model_name": "FloatProgressModel",
     "model_module_version": "1.5.0",
     "state": {
      "_dom_classes": [],
      "_model_module": "@jupyter-widgets/controls",
      "_model_module_version": "1.5.0",
      "_model_name": "FloatProgressModel",
      "_view_count": null,
      "_view_module": "@jupyter-widgets/controls",
      "_view_module_version": "1.5.0",
      "_view_name": "ProgressView",
      "bar_style": "success",
      "description": "",
      "description_tooltip": null,
      "layout": "IPY_MODEL_827c592ce55b434da7519ee706e2a563",
      "max": 22,
      "min": 0,
      "orientation": "horizontal",
      "style": "IPY_MODEL_faa76915097f4757b27e951db8f50ea9",
      "value": 22
     }
    },
    "d37f62f4acda4568adf8646223cae6ad": {
     "model_module": "@jupyter-widgets/controls",
     "model_name": "HTMLModel",
     "model_module_version": "1.5.0",
     "state": {
      "_dom_classes": [],
      "_model_module": "@jupyter-widgets/controls",
      "_model_module_version": "1.5.0",
      "_model_name": "HTMLModel",
      "_view_count": null,
      "_view_module": "@jupyter-widgets/controls",
      "_view_module_version": "1.5.0",
      "_view_name": "HTMLView",
      "description": "",
      "description_tooltip": null,
      "layout": "IPY_MODEL_066b5eb37f594b708c42867d58782e73",
      "placeholder": "​",
      "style": "IPY_MODEL_883ee918c3014fd7a7aeb7c4ab9a3c89",
      "value": " 22/22 [00:02&lt;00:00, 22.06it/s]"
     }
    },
    "7fad67bcc46041d18e0d0c01343e526f": {
     "model_module": "@jupyter-widgets/base",
     "model_name": "LayoutModel",
     "model_module_version": "1.2.0",
     "state": {
      "_model_module": "@jupyter-widgets/base",
      "_model_module_version": "1.2.0",
      "_model_name": "LayoutModel",
      "_view_count": null,
      "_view_module": "@jupyter-widgets/base",
      "_view_module_version": "1.2.0",
      "_view_name": "LayoutView",
      "align_content": null,
      "align_items": null,
      "align_self": null,
      "border": null,
      "bottom": null,
      "display": null,
      "flex": null,
      "flex_flow": null,
      "grid_area": null,
      "grid_auto_columns": null,
      "grid_auto_flow": null,
      "grid_auto_rows": null,
      "grid_column": null,
      "grid_gap": null,
      "grid_row": null,
      "grid_template_areas": null,
      "grid_template_columns": null,
      "grid_template_rows": null,
      "height": null,
      "justify_content": null,
      "justify_items": null,
      "left": null,
      "margin": null,
      "max_height": null,
      "max_width": null,
      "min_height": null,
      "min_width": null,
      "object_fit": null,
      "object_position": null,
      "order": null,
      "overflow": null,
      "overflow_x": null,
      "overflow_y": null,
      "padding": null,
      "right": null,
      "top": null,
      "visibility": null,
      "width": null
     }
    },
    "a04ae29d0737438aa355a60ccc506253": {
     "model_module": "@jupyter-widgets/base",
     "model_name": "LayoutModel",
     "model_module_version": "1.2.0",
     "state": {
      "_model_module": "@jupyter-widgets/base",
      "_model_module_version": "1.2.0",
      "_model_name": "LayoutModel",
      "_view_count": null,
      "_view_module": "@jupyter-widgets/base",
      "_view_module_version": "1.2.0",
      "_view_name": "LayoutView",
      "align_content": null,
      "align_items": null,
      "align_self": null,
      "border": null,
      "bottom": null,
      "display": null,
      "flex": null,
      "flex_flow": null,
      "grid_area": null,
      "grid_auto_columns": null,
      "grid_auto_flow": null,
      "grid_auto_rows": null,
      "grid_column": null,
      "grid_gap": null,
      "grid_row": null,
      "grid_template_areas": null,
      "grid_template_columns": null,
      "grid_template_rows": null,
      "height": null,
      "justify_content": null,
      "justify_items": null,
      "left": null,
      "margin": null,
      "max_height": null,
      "max_width": null,
      "min_height": null,
      "min_width": null,
      "object_fit": null,
      "object_position": null,
      "order": null,
      "overflow": null,
      "overflow_x": null,
      "overflow_y": null,
      "padding": null,
      "right": null,
      "top": null,
      "visibility": null,
      "width": null
     }
    },
    "06df77b4d862480daf02fbda0658f377": {
     "model_module": "@jupyter-widgets/controls",
     "model_name": "DescriptionStyleModel",
     "model_module_version": "1.5.0",
     "state": {
      "_model_module": "@jupyter-widgets/controls",
      "_model_module_version": "1.5.0",
      "_model_name": "DescriptionStyleModel",
      "_view_count": null,
      "_view_module": "@jupyter-widgets/base",
      "_view_module_version": "1.2.0",
      "_view_name": "StyleView",
      "description_width": ""
     }
    },
    "827c592ce55b434da7519ee706e2a563": {
     "model_module": "@jupyter-widgets/base",
     "model_name": "LayoutModel",
     "model_module_version": "1.2.0",
     "state": {
      "_model_module": "@jupyter-widgets/base",
      "_model_module_version": "1.2.0",
      "_model_name": "LayoutModel",
      "_view_count": null,
      "_view_module": "@jupyter-widgets/base",
      "_view_module_version": "1.2.0",
      "_view_name": "LayoutView",
      "align_content": null,
      "align_items": null,
      "align_self": null,
      "border": null,
      "bottom": null,
      "display": null,
      "flex": null,
      "flex_flow": null,
      "grid_area": null,
      "grid_auto_columns": null,
      "grid_auto_flow": null,
      "grid_auto_rows": null,
      "grid_column": null,
      "grid_gap": null,
      "grid_row": null,
      "grid_template_areas": null,
      "grid_template_columns": null,
      "grid_template_rows": null,
      "height": null,
      "justify_content": null,
      "justify_items": null,
      "left": null,
      "margin": null,
      "max_height": null,
      "max_width": null,
      "min_height": null,
      "min_width": null,
      "object_fit": null,
      "object_position": null,
      "order": null,
      "overflow": null,
      "overflow_x": null,
      "overflow_y": null,
      "padding": null,
      "right": null,
      "top": null,
      "visibility": null,
      "width": null
     }
    },
    "faa76915097f4757b27e951db8f50ea9": {
     "model_module": "@jupyter-widgets/controls",
     "model_name": "ProgressStyleModel",
     "model_module_version": "1.5.0",
     "state": {
      "_model_module": "@jupyter-widgets/controls",
      "_model_module_version": "1.5.0",
      "_model_name": "ProgressStyleModel",
      "_view_count": null,
      "_view_module": "@jupyter-widgets/base",
      "_view_module_version": "1.2.0",
      "_view_name": "StyleView",
      "bar_color": null,
      "description_width": ""
     }
    },
    "066b5eb37f594b708c42867d58782e73": {
     "model_module": "@jupyter-widgets/base",
     "model_name": "LayoutModel",
     "model_module_version": "1.2.0",
     "state": {
      "_model_module": "@jupyter-widgets/base",
      "_model_module_version": "1.2.0",
      "_model_name": "LayoutModel",
      "_view_count": null,
      "_view_module": "@jupyter-widgets/base",
      "_view_module_version": "1.2.0",
      "_view_name": "LayoutView",
      "align_content": null,
      "align_items": null,
      "align_self": null,
      "border": null,
      "bottom": null,
      "display": null,
      "flex": null,
      "flex_flow": null,
      "grid_area": null,
      "grid_auto_columns": null,
      "grid_auto_flow": null,
      "grid_auto_rows": null,
      "grid_column": null,
      "grid_gap": null,
      "grid_row": null,
      "grid_template_areas": null,
      "grid_template_columns": null,
      "grid_template_rows": null,
      "height": null,
      "justify_content": null,
      "justify_items": null,
      "left": null,
      "margin": null,
      "max_height": null,
      "max_width": null,
      "min_height": null,
      "min_width": null,
      "object_fit": null,
      "object_position": null,
      "order": null,
      "overflow": null,
      "overflow_x": null,
      "overflow_y": null,
      "padding": null,
      "right": null,
      "top": null,
      "visibility": null,
      "width": null
     }
    },
    "883ee918c3014fd7a7aeb7c4ab9a3c89": {
     "model_module": "@jupyter-widgets/controls",
     "model_name": "DescriptionStyleModel",
     "model_module_version": "1.5.0",
     "state": {
      "_model_module": "@jupyter-widgets/controls",
      "_model_module_version": "1.5.0",
      "_model_name": "DescriptionStyleModel",
      "_view_count": null,
      "_view_module": "@jupyter-widgets/base",
      "_view_module_version": "1.2.0",
      "_view_name": "StyleView",
      "description_width": ""
     }
    }
   }
  }
 },
 "cells": [
  {
   "cell_type": "markdown",
   "source": [
    "# Fine-Tuning and Clsutering Sentence Embeddings for Food Items "
   ],
   "metadata": {
    "id": "k1CrG8pZZmVo"
   }
  },
  {
   "cell_type": "code",
   "execution_count": 58,
   "metadata": {
    "colab": {
     "base_uri": "https://localhost:8080/"
    },
    "id": "_ikcesBCqwYl",
    "outputId": "9d497094-6091-4f61-93fd-d23fc5c07f04"
   },
   "outputs": [
    {
     "output_type": "stream",
     "name": "stderr",
     "text": [
      "[nltk_data] Downloading package stopwords to /root/nltk_data...\n",
      "[nltk_data]   Package stopwords is already up-to-date!\n",
      "[nltk_data] Downloading package wordnet to /root/nltk_data...\n",
      "[nltk_data]   Package wordnet is already up-to-date!\n",
      "[nltk_data] Downloading package omw-1.4 to /root/nltk_data...\n",
      "[nltk_data]   Package omw-1.4 is already up-to-date!\n",
      "[nltk_data] Downloading package punkt to /root/nltk_data...\n",
      "[nltk_data]   Package punkt is already up-to-date!\n"
     ]
    },
    {
     "output_type": "execute_result",
     "data": {
      "text/plain": [
       "True"
      ]
     },
     "metadata": {},
     "execution_count": 58
    }
   ],
   "source": [
    "# External package installations\n",
    "!pip3 install sentence_transformers hdbscan umap-learn umap-learn[plot]\n",
    "\n",
    "# Imports\n",
    "import re\n",
    "import nltk\n",
    "import hdbscan\n",
    "import umap.plot\n",
    "import pandas                       as pd\n",
    "import matplotlib.pyplot            as plt\n",
    "from   nltk.corpus              import stopwords\n",
    "from   nltk.tokenize            import WhitespaceTokenizer\n",
    "from   nltk.stem                import WordNetLemmatizer\n",
    "from   nltk.probability         import FreqDist\n",
    "from   umap                     import UMAP\n",
    "from   sklearn.cluster          import KMeans\n",
    "from   torch.utils.data         import DataLoader\n",
    "from   sklearn.metrics.cluster  import calinski_harabasz_score, silhouette_score\n",
    "from   sentence_transformers    import models, datasets, losses, SentenceTransformer\n",
    "\n",
    "# NLTK Downloads for Pre-processing\n",
    "nltk.download('stopwords')\n",
    "nltk.download('wordnet')\n",
    "nltk.download('omw-1.4')\n",
    "nltk.download('punkt')"
   ]
  },
  {
   "cell_type": "markdown",
   "source": [
    "## Data Preprocessing"
   ],
   "metadata": {
    "id": "Z1Gb9It6roGw"
   }
  },
  {
   "cell_type": "code",
   "source": [
    "data_path                = '/content/drive/MyDrive/Colab Notebooks/'\n",
    "df                       = pd.read_csv(f\"{data_path}MenuItem.csv\")\n",
    "\n",
    "# Remove all commas from individual food items\n",
    "df['Original food Item'] = df['Original food Item'].replace(',', '', regex=True)\n",
    "df"
   ],
   "metadata": {
    "colab": {
     "base_uri": "https://localhost:8080/",
     "height": 424
    },
    "id": "5SuVD4eGFsvF",
    "outputId": "b6028626-2d0c-4c92-986b-b97865e003a8"
   },
   "execution_count": 59,
   "outputs": [
    {
     "output_type": "execute_result",
     "data": {
      "text/plain": [
       "             Restaurant Name                         Original food Item\n",
       "0                Coffee Time                  Garden Vegetable Sandwich\n",
       "1                      HoSan                      Roasted Seaweed Snack\n",
       "2            Weight Watchers                                    Muffins\n",
       "3                Natural Sea                  Albacore Tuna Solid White\n",
       "4              World of Beer  Caesar Salad with Grilled Flat Iron Steak\n",
       "...                      ...                                        ...\n",
       "4519   Moxie's Classic Grill                   Spring Mix Starter Salad\n",
       "4520       Thundercloud Subs             Genoa Salami Low-Fat Sub Large\n",
       "4521             Chick-fil-A            Cookies & Cream Milkshake Small\n",
       "4522               Cereality                                    2% Milk\n",
       "4523  The Habit Burger Grill                 Kids Charburger with Fries\n",
       "\n",
       "[4524 rows x 2 columns]"
      ],
      "text/html": [
       "\n",
       "  <div id=\"df-968ab08c-3f61-4090-b86e-097761aa8c3c\">\n",
       "    <div class=\"colab-df-container\">\n",
       "      <div>\n",
       "<style scoped>\n",
       "    .dataframe tbody tr th:only-of-type {\n",
       "        vertical-align: middle;\n",
       "    }\n",
       "\n",
       "    .dataframe tbody tr th {\n",
       "        vertical-align: top;\n",
       "    }\n",
       "\n",
       "    .dataframe thead th {\n",
       "        text-align: right;\n",
       "    }\n",
       "</style>\n",
       "<table border=\"1\" class=\"dataframe\">\n",
       "  <thead>\n",
       "    <tr style=\"text-align: right;\">\n",
       "      <th></th>\n",
       "      <th>Restaurant Name</th>\n",
       "      <th>Original food Item</th>\n",
       "    </tr>\n",
       "  </thead>\n",
       "  <tbody>\n",
       "    <tr>\n",
       "      <th>0</th>\n",
       "      <td>Coffee Time</td>\n",
       "      <td>Garden Vegetable Sandwich</td>\n",
       "    </tr>\n",
       "    <tr>\n",
       "      <th>1</th>\n",
       "      <td>HoSan</td>\n",
       "      <td>Roasted Seaweed Snack</td>\n",
       "    </tr>\n",
       "    <tr>\n",
       "      <th>2</th>\n",
       "      <td>Weight Watchers</td>\n",
       "      <td>Muffins</td>\n",
       "    </tr>\n",
       "    <tr>\n",
       "      <th>3</th>\n",
       "      <td>Natural Sea</td>\n",
       "      <td>Albacore Tuna Solid White</td>\n",
       "    </tr>\n",
       "    <tr>\n",
       "      <th>4</th>\n",
       "      <td>World of Beer</td>\n",
       "      <td>Caesar Salad with Grilled Flat Iron Steak</td>\n",
       "    </tr>\n",
       "    <tr>\n",
       "      <th>...</th>\n",
       "      <td>...</td>\n",
       "      <td>...</td>\n",
       "    </tr>\n",
       "    <tr>\n",
       "      <th>4519</th>\n",
       "      <td>Moxie's Classic Grill</td>\n",
       "      <td>Spring Mix Starter Salad</td>\n",
       "    </tr>\n",
       "    <tr>\n",
       "      <th>4520</th>\n",
       "      <td>Thundercloud Subs</td>\n",
       "      <td>Genoa Salami Low-Fat Sub Large</td>\n",
       "    </tr>\n",
       "    <tr>\n",
       "      <th>4521</th>\n",
       "      <td>Chick-fil-A</td>\n",
       "      <td>Cookies &amp; Cream Milkshake Small</td>\n",
       "    </tr>\n",
       "    <tr>\n",
       "      <th>4522</th>\n",
       "      <td>Cereality</td>\n",
       "      <td>2% Milk</td>\n",
       "    </tr>\n",
       "    <tr>\n",
       "      <th>4523</th>\n",
       "      <td>The Habit Burger Grill</td>\n",
       "      <td>Kids Charburger with Fries</td>\n",
       "    </tr>\n",
       "  </tbody>\n",
       "</table>\n",
       "<p>4524 rows × 2 columns</p>\n",
       "</div>\n",
       "      <button class=\"colab-df-convert\" onclick=\"convertToInteractive('df-968ab08c-3f61-4090-b86e-097761aa8c3c')\"\n",
       "              title=\"Convert this dataframe to an interactive table.\"\n",
       "              style=\"display:none;\">\n",
       "        \n",
       "  <svg xmlns=\"http://www.w3.org/2000/svg\" height=\"24px\"viewBox=\"0 0 24 24\"\n",
       "       width=\"24px\">\n",
       "    <path d=\"M0 0h24v24H0V0z\" fill=\"none\"/>\n",
       "    <path d=\"M18.56 5.44l.94 2.06.94-2.06 2.06-.94-2.06-.94-.94-2.06-.94 2.06-2.06.94zm-11 1L8.5 8.5l.94-2.06 2.06-.94-2.06-.94L8.5 2.5l-.94 2.06-2.06.94zm10 10l.94 2.06.94-2.06 2.06-.94-2.06-.94-.94-2.06-.94 2.06-2.06.94z\"/><path d=\"M17.41 7.96l-1.37-1.37c-.4-.4-.92-.59-1.43-.59-.52 0-1.04.2-1.43.59L10.3 9.45l-7.72 7.72c-.78.78-.78 2.05 0 2.83L4 21.41c.39.39.9.59 1.41.59.51 0 1.02-.2 1.41-.59l7.78-7.78 2.81-2.81c.8-.78.8-2.07 0-2.86zM5.41 20L4 18.59l7.72-7.72 1.47 1.35L5.41 20z\"/>\n",
       "  </svg>\n",
       "      </button>\n",
       "      \n",
       "  <style>\n",
       "    .colab-df-container {\n",
       "      display:flex;\n",
       "      flex-wrap:wrap;\n",
       "      gap: 12px;\n",
       "    }\n",
       "\n",
       "    .colab-df-convert {\n",
       "      background-color: #E8F0FE;\n",
       "      border: none;\n",
       "      border-radius: 50%;\n",
       "      cursor: pointer;\n",
       "      display: none;\n",
       "      fill: #1967D2;\n",
       "      height: 32px;\n",
       "      padding: 0 0 0 0;\n",
       "      width: 32px;\n",
       "    }\n",
       "\n",
       "    .colab-df-convert:hover {\n",
       "      background-color: #E2EBFA;\n",
       "      box-shadow: 0px 1px 2px rgba(60, 64, 67, 0.3), 0px 1px 3px 1px rgba(60, 64, 67, 0.15);\n",
       "      fill: #174EA6;\n",
       "    }\n",
       "\n",
       "    [theme=dark] .colab-df-convert {\n",
       "      background-color: #3B4455;\n",
       "      fill: #D2E3FC;\n",
       "    }\n",
       "\n",
       "    [theme=dark] .colab-df-convert:hover {\n",
       "      background-color: #434B5C;\n",
       "      box-shadow: 0px 1px 3px 1px rgba(0, 0, 0, 0.15);\n",
       "      filter: drop-shadow(0px 1px 2px rgba(0, 0, 0, 0.3));\n",
       "      fill: #FFFFFF;\n",
       "    }\n",
       "  </style>\n",
       "\n",
       "      <script>\n",
       "        const buttonEl =\n",
       "          document.querySelector('#df-968ab08c-3f61-4090-b86e-097761aa8c3c button.colab-df-convert');\n",
       "        buttonEl.style.display =\n",
       "          google.colab.kernel.accessAllowed ? 'block' : 'none';\n",
       "\n",
       "        async function convertToInteractive(key) {\n",
       "          const element = document.querySelector('#df-968ab08c-3f61-4090-b86e-097761aa8c3c');\n",
       "          const dataTable =\n",
       "            await google.colab.kernel.invokeFunction('convertToInteractive',\n",
       "                                                     [key], {});\n",
       "          if (!dataTable) return;\n",
       "\n",
       "          const docLinkHtml = 'Like what you see? Visit the ' +\n",
       "            '<a target=\"_blank\" href=https://colab.research.google.com/notebooks/data_table.ipynb>data table notebook</a>'\n",
       "            + ' to learn more about interactive tables.';\n",
       "          element.innerHTML = '';\n",
       "          dataTable['output_type'] = 'display_data';\n",
       "          await google.colab.output.renderOutput(dataTable, element);\n",
       "          const docLink = document.createElement('div');\n",
       "          docLink.innerHTML = docLinkHtml;\n",
       "          element.appendChild(docLink);\n",
       "        }\n",
       "      </script>\n",
       "    </div>\n",
       "  </div>\n",
       "  "
      ]
     },
     "metadata": {},
     "execution_count": 59
    }
   ]
  },
  {
   "cell_type": "code",
   "source": [
    "# Combine food items from all restaurants to create a Single Menu per row for each Restaurant\n",
    "combined_df                       = df.groupby(df['Restaurant Name']).aggregate({'Original food Item': ', '.join}).reset_index()\n",
    "combined_df['Original food Item'] = combined_df['Original food Item'].astype(str)\n",
    "print(f'Total Restaurants = {len(combined_df)}')\n",
    "combined_df.head(15)"
   ],
   "metadata": {
    "colab": {
     "base_uri": "https://localhost:8080/",
     "height": 537
    },
    "id": "kCqaxBg2rOFy",
    "outputId": "77ab009c-c7fc-4739-d0c1-fbc675a3123e"
   },
   "execution_count": 60,
   "outputs": [
    {
     "output_type": "stream",
     "name": "stdout",
     "text": [
      "Total Restaurants = 341\n"
     ]
    },
    {
     "output_type": "execute_result",
     "data": {
      "text/plain": [
       "                 Restaurant Name  \\\n",
       "0                      241 Pizza   \n",
       "1                   A&W (Canada)   \n",
       "2                         Amay's   \n",
       "3            Ameci Pizza & Pasta   \n",
       "4            America's Taco Shop   \n",
       "5     American Flatbread Grocery   \n",
       "6                         Angy's   \n",
       "7                          Arbys   \n",
       "8                     Arcor Saic   \n",
       "9              Back Yard Burgers   \n",
       "10                Baskin Robbins   \n",
       "11  Baton Rouge Steakhouse & Bar   \n",
       "12                       Benny's   \n",
       "13                 Betty Crocker   \n",
       "14                         Bimbo   \n",
       "\n",
       "                                   Original food Item  \n",
       "0   Bacon Cheeseburger Pizza Medium Slice, Meat Lo...  \n",
       "1   Apple Juice 12 oz, Bacon & Egger on Sesame See...  \n",
       "2                                      Almond Cookies  \n",
       "3   Large Ameci Deluxe Pizza, Chicken Caesar Salad...  \n",
       "4   Jack Cheese, Carne Asada Quesadilla Regular, T...  \n",
       "5   Thin & Crispy Pizza Sliced Tomato & 5 Cheese, ...  \n",
       "6   Tri Color Cheese Tortellini, Tortellini, Torte...  \n",
       "7                                Seasoned Curly Fries  \n",
       "8                          Precooked Yellow Corn Meal  \n",
       "9   Classic Turkey Burger, Chili Cheese Fries - La...  \n",
       "10  Pink Bubblegum Ice Cream 2.5 oz Scoop, Vanilla...  \n",
       "11  Caesar Salad with garlic cheese toast, Chicken...  \n",
       "12  Bagel Dogs Polish Sausage, Straws, Smoked Chor...  \n",
       "13  Cookie Mix Chocolate Chip, Hamburger Helper Sa...  \n",
       "14  Bread Soft White Small, Cookies Marshmallow, B...  "
      ],
      "text/html": [
       "\n",
       "  <div id=\"df-7a42ec21-d817-41e0-9b6e-697889711dc9\">\n",
       "    <div class=\"colab-df-container\">\n",
       "      <div>\n",
       "<style scoped>\n",
       "    .dataframe tbody tr th:only-of-type {\n",
       "        vertical-align: middle;\n",
       "    }\n",
       "\n",
       "    .dataframe tbody tr th {\n",
       "        vertical-align: top;\n",
       "    }\n",
       "\n",
       "    .dataframe thead th {\n",
       "        text-align: right;\n",
       "    }\n",
       "</style>\n",
       "<table border=\"1\" class=\"dataframe\">\n",
       "  <thead>\n",
       "    <tr style=\"text-align: right;\">\n",
       "      <th></th>\n",
       "      <th>Restaurant Name</th>\n",
       "      <th>Original food Item</th>\n",
       "    </tr>\n",
       "  </thead>\n",
       "  <tbody>\n",
       "    <tr>\n",
       "      <th>0</th>\n",
       "      <td>241 Pizza</td>\n",
       "      <td>Bacon Cheeseburger Pizza Medium Slice, Meat Lo...</td>\n",
       "    </tr>\n",
       "    <tr>\n",
       "      <th>1</th>\n",
       "      <td>A&amp;W (Canada)</td>\n",
       "      <td>Apple Juice 12 oz, Bacon &amp; Egger on Sesame See...</td>\n",
       "    </tr>\n",
       "    <tr>\n",
       "      <th>2</th>\n",
       "      <td>Amay's</td>\n",
       "      <td>Almond Cookies</td>\n",
       "    </tr>\n",
       "    <tr>\n",
       "      <th>3</th>\n",
       "      <td>Ameci Pizza &amp; Pasta</td>\n",
       "      <td>Large Ameci Deluxe Pizza, Chicken Caesar Salad...</td>\n",
       "    </tr>\n",
       "    <tr>\n",
       "      <th>4</th>\n",
       "      <td>America's Taco Shop</td>\n",
       "      <td>Jack Cheese, Carne Asada Quesadilla Regular, T...</td>\n",
       "    </tr>\n",
       "    <tr>\n",
       "      <th>5</th>\n",
       "      <td>American Flatbread Grocery</td>\n",
       "      <td>Thin &amp; Crispy Pizza Sliced Tomato &amp; 5 Cheese, ...</td>\n",
       "    </tr>\n",
       "    <tr>\n",
       "      <th>6</th>\n",
       "      <td>Angy's</td>\n",
       "      <td>Tri Color Cheese Tortellini, Tortellini, Torte...</td>\n",
       "    </tr>\n",
       "    <tr>\n",
       "      <th>7</th>\n",
       "      <td>Arbys</td>\n",
       "      <td>Seasoned Curly Fries</td>\n",
       "    </tr>\n",
       "    <tr>\n",
       "      <th>8</th>\n",
       "      <td>Arcor Saic</td>\n",
       "      <td>Precooked Yellow Corn Meal</td>\n",
       "    </tr>\n",
       "    <tr>\n",
       "      <th>9</th>\n",
       "      <td>Back Yard Burgers</td>\n",
       "      <td>Classic Turkey Burger, Chili Cheese Fries - La...</td>\n",
       "    </tr>\n",
       "    <tr>\n",
       "      <th>10</th>\n",
       "      <td>Baskin Robbins</td>\n",
       "      <td>Pink Bubblegum Ice Cream 2.5 oz Scoop, Vanilla...</td>\n",
       "    </tr>\n",
       "    <tr>\n",
       "      <th>11</th>\n",
       "      <td>Baton Rouge Steakhouse &amp; Bar</td>\n",
       "      <td>Caesar Salad with garlic cheese toast, Chicken...</td>\n",
       "    </tr>\n",
       "    <tr>\n",
       "      <th>12</th>\n",
       "      <td>Benny's</td>\n",
       "      <td>Bagel Dogs Polish Sausage, Straws, Smoked Chor...</td>\n",
       "    </tr>\n",
       "    <tr>\n",
       "      <th>13</th>\n",
       "      <td>Betty Crocker</td>\n",
       "      <td>Cookie Mix Chocolate Chip, Hamburger Helper Sa...</td>\n",
       "    </tr>\n",
       "    <tr>\n",
       "      <th>14</th>\n",
       "      <td>Bimbo</td>\n",
       "      <td>Bread Soft White Small, Cookies Marshmallow, B...</td>\n",
       "    </tr>\n",
       "  </tbody>\n",
       "</table>\n",
       "</div>\n",
       "      <button class=\"colab-df-convert\" onclick=\"convertToInteractive('df-7a42ec21-d817-41e0-9b6e-697889711dc9')\"\n",
       "              title=\"Convert this dataframe to an interactive table.\"\n",
       "              style=\"display:none;\">\n",
       "        \n",
       "  <svg xmlns=\"http://www.w3.org/2000/svg\" height=\"24px\"viewBox=\"0 0 24 24\"\n",
       "       width=\"24px\">\n",
       "    <path d=\"M0 0h24v24H0V0z\" fill=\"none\"/>\n",
       "    <path d=\"M18.56 5.44l.94 2.06.94-2.06 2.06-.94-2.06-.94-.94-2.06-.94 2.06-2.06.94zm-11 1L8.5 8.5l.94-2.06 2.06-.94-2.06-.94L8.5 2.5l-.94 2.06-2.06.94zm10 10l.94 2.06.94-2.06 2.06-.94-2.06-.94-.94-2.06-.94 2.06-2.06.94z\"/><path d=\"M17.41 7.96l-1.37-1.37c-.4-.4-.92-.59-1.43-.59-.52 0-1.04.2-1.43.59L10.3 9.45l-7.72 7.72c-.78.78-.78 2.05 0 2.83L4 21.41c.39.39.9.59 1.41.59.51 0 1.02-.2 1.41-.59l7.78-7.78 2.81-2.81c.8-.78.8-2.07 0-2.86zM5.41 20L4 18.59l7.72-7.72 1.47 1.35L5.41 20z\"/>\n",
       "  </svg>\n",
       "      </button>\n",
       "      \n",
       "  <style>\n",
       "    .colab-df-container {\n",
       "      display:flex;\n",
       "      flex-wrap:wrap;\n",
       "      gap: 12px;\n",
       "    }\n",
       "\n",
       "    .colab-df-convert {\n",
       "      background-color: #E8F0FE;\n",
       "      border: none;\n",
       "      border-radius: 50%;\n",
       "      cursor: pointer;\n",
       "      display: none;\n",
       "      fill: #1967D2;\n",
       "      height: 32px;\n",
       "      padding: 0 0 0 0;\n",
       "      width: 32px;\n",
       "    }\n",
       "\n",
       "    .colab-df-convert:hover {\n",
       "      background-color: #E2EBFA;\n",
       "      box-shadow: 0px 1px 2px rgba(60, 64, 67, 0.3), 0px 1px 3px 1px rgba(60, 64, 67, 0.15);\n",
       "      fill: #174EA6;\n",
       "    }\n",
       "\n",
       "    [theme=dark] .colab-df-convert {\n",
       "      background-color: #3B4455;\n",
       "      fill: #D2E3FC;\n",
       "    }\n",
       "\n",
       "    [theme=dark] .colab-df-convert:hover {\n",
       "      background-color: #434B5C;\n",
       "      box-shadow: 0px 1px 3px 1px rgba(0, 0, 0, 0.15);\n",
       "      filter: drop-shadow(0px 1px 2px rgba(0, 0, 0, 0.3));\n",
       "      fill: #FFFFFF;\n",
       "    }\n",
       "  </style>\n",
       "\n",
       "      <script>\n",
       "        const buttonEl =\n",
       "          document.querySelector('#df-7a42ec21-d817-41e0-9b6e-697889711dc9 button.colab-df-convert');\n",
       "        buttonEl.style.display =\n",
       "          google.colab.kernel.accessAllowed ? 'block' : 'none';\n",
       "\n",
       "        async function convertToInteractive(key) {\n",
       "          const element = document.querySelector('#df-7a42ec21-d817-41e0-9b6e-697889711dc9');\n",
       "          const dataTable =\n",
       "            await google.colab.kernel.invokeFunction('convertToInteractive',\n",
       "                                                     [key], {});\n",
       "          if (!dataTable) return;\n",
       "\n",
       "          const docLinkHtml = 'Like what you see? Visit the ' +\n",
       "            '<a target=\"_blank\" href=https://colab.research.google.com/notebooks/data_table.ipynb>data table notebook</a>'\n",
       "            + ' to learn more about interactive tables.';\n",
       "          element.innerHTML = '';\n",
       "          dataTable['output_type'] = 'display_data';\n",
       "          await google.colab.output.renderOutput(dataTable, element);\n",
       "          const docLink = document.createElement('div');\n",
       "          docLink.innerHTML = docLinkHtml;\n",
       "          element.appendChild(docLink);\n",
       "        }\n",
       "      </script>\n",
       "    </div>\n",
       "  </div>\n",
       "  "
      ]
     },
     "metadata": {},
     "execution_count": 60
    }
   ]
  },
  {
   "cell_type": "markdown",
   "source": [
    "Now we have a total of **341** restaurants with their entire Menu."
   ],
   "metadata": {
    "id": "rU-WN-gSaJtv"
   }
  },
  {
   "cell_type": "markdown",
   "source": [
    "## Data Cleaning "
   ],
   "metadata": {
    "id": "fxfBT_TQaT9u"
   }
  },
  {
   "cell_type": "code",
   "source": [
    "stop_words       = set(stopwords.words('english'))\n",
    "def clean(menu):\n",
    "\n",
    "    # Remove punctuations\n",
    "    clean_menu   = re.sub(r'[^\\w\\s]', '', menu)\n",
    "    clean_menu   = clean_menu.lower()\n",
    "\n",
    "    # Tokenize based on Whitespaces\n",
    "    words        = WhitespaceTokenizer().tokenize(clean_menu)\n",
    "\n",
    "    # Remove stop words\n",
    "    cleaned_items = [w for w in words if w not in stop_words]\n",
    "\n",
    "    # Lemmatize words\n",
    "    wnl           = WordNetLemmatizer()\n",
    "    return ' '.join( [ wnl.lemmatize(token) for token in cleaned_items ] )"
   ],
   "metadata": {
    "id": "fxsUFMjrrR1e"
   },
   "execution_count": 64,
   "outputs": []
  },
  {
   "cell_type": "code",
   "source": [
    "combined_df['Cleaned Items'] = combined_df['Original food Item'].apply(lambda x: clean(x))\n",
    "combined_df.head()"
   ],
   "metadata": {
    "colab": {
     "base_uri": "https://localhost:8080/",
     "height": 206
    },
    "id": "ZpC5Q4bLrWsp",
    "outputId": "d12cb78c-eff4-4e58-f6c2-b0f32cd486e0"
   },
   "execution_count": 65,
   "outputs": [
    {
     "output_type": "execute_result",
     "data": {
      "text/plain": [
       "       Restaurant Name                                 Original food Item  \\\n",
       "0            241 Pizza  Bacon Cheeseburger Pizza Medium Slice, Meat Lo...   \n",
       "1         A&W (Canada)  Apple Juice 12 oz, Bacon & Egger on Sesame See...   \n",
       "2               Amay's                                     Almond Cookies   \n",
       "3  Ameci Pizza & Pasta  Large Ameci Deluxe Pizza, Chicken Caesar Salad...   \n",
       "4  America's Taco Shop  Jack Cheese, Carne Asada Quesadilla Regular, T...   \n",
       "\n",
       "                                       Cleaned Items  \n",
       "0  bacon cheeseburger pizza medium slice meat lov...  \n",
       "1  apple juice 12 oz bacon egger sesame seed bun ...  \n",
       "2                                       almond cooky  \n",
       "3  large ameci deluxe pizza chicken caesar salad ...  \n",
       "4  jack cheese carne asada quesadilla regular tom...  "
      ],
      "text/html": [
       "\n",
       "  <div id=\"df-2f95f23d-1c1e-4fd6-8223-d4b9f1039e66\">\n",
       "    <div class=\"colab-df-container\">\n",
       "      <div>\n",
       "<style scoped>\n",
       "    .dataframe tbody tr th:only-of-type {\n",
       "        vertical-align: middle;\n",
       "    }\n",
       "\n",
       "    .dataframe tbody tr th {\n",
       "        vertical-align: top;\n",
       "    }\n",
       "\n",
       "    .dataframe thead th {\n",
       "        text-align: right;\n",
       "    }\n",
       "</style>\n",
       "<table border=\"1\" class=\"dataframe\">\n",
       "  <thead>\n",
       "    <tr style=\"text-align: right;\">\n",
       "      <th></th>\n",
       "      <th>Restaurant Name</th>\n",
       "      <th>Original food Item</th>\n",
       "      <th>Cleaned Items</th>\n",
       "    </tr>\n",
       "  </thead>\n",
       "  <tbody>\n",
       "    <tr>\n",
       "      <th>0</th>\n",
       "      <td>241 Pizza</td>\n",
       "      <td>Bacon Cheeseburger Pizza Medium Slice, Meat Lo...</td>\n",
       "      <td>bacon cheeseburger pizza medium slice meat lov...</td>\n",
       "    </tr>\n",
       "    <tr>\n",
       "      <th>1</th>\n",
       "      <td>A&amp;W (Canada)</td>\n",
       "      <td>Apple Juice 12 oz, Bacon &amp; Egger on Sesame See...</td>\n",
       "      <td>apple juice 12 oz bacon egger sesame seed bun ...</td>\n",
       "    </tr>\n",
       "    <tr>\n",
       "      <th>2</th>\n",
       "      <td>Amay's</td>\n",
       "      <td>Almond Cookies</td>\n",
       "      <td>almond cooky</td>\n",
       "    </tr>\n",
       "    <tr>\n",
       "      <th>3</th>\n",
       "      <td>Ameci Pizza &amp; Pasta</td>\n",
       "      <td>Large Ameci Deluxe Pizza, Chicken Caesar Salad...</td>\n",
       "      <td>large ameci deluxe pizza chicken caesar salad ...</td>\n",
       "    </tr>\n",
       "    <tr>\n",
       "      <th>4</th>\n",
       "      <td>America's Taco Shop</td>\n",
       "      <td>Jack Cheese, Carne Asada Quesadilla Regular, T...</td>\n",
       "      <td>jack cheese carne asada quesadilla regular tom...</td>\n",
       "    </tr>\n",
       "  </tbody>\n",
       "</table>\n",
       "</div>\n",
       "      <button class=\"colab-df-convert\" onclick=\"convertToInteractive('df-2f95f23d-1c1e-4fd6-8223-d4b9f1039e66')\"\n",
       "              title=\"Convert this dataframe to an interactive table.\"\n",
       "              style=\"display:none;\">\n",
       "        \n",
       "  <svg xmlns=\"http://www.w3.org/2000/svg\" height=\"24px\"viewBox=\"0 0 24 24\"\n",
       "       width=\"24px\">\n",
       "    <path d=\"M0 0h24v24H0V0z\" fill=\"none\"/>\n",
       "    <path d=\"M18.56 5.44l.94 2.06.94-2.06 2.06-.94-2.06-.94-.94-2.06-.94 2.06-2.06.94zm-11 1L8.5 8.5l.94-2.06 2.06-.94-2.06-.94L8.5 2.5l-.94 2.06-2.06.94zm10 10l.94 2.06.94-2.06 2.06-.94-2.06-.94-.94-2.06-.94 2.06-2.06.94z\"/><path d=\"M17.41 7.96l-1.37-1.37c-.4-.4-.92-.59-1.43-.59-.52 0-1.04.2-1.43.59L10.3 9.45l-7.72 7.72c-.78.78-.78 2.05 0 2.83L4 21.41c.39.39.9.59 1.41.59.51 0 1.02-.2 1.41-.59l7.78-7.78 2.81-2.81c.8-.78.8-2.07 0-2.86zM5.41 20L4 18.59l7.72-7.72 1.47 1.35L5.41 20z\"/>\n",
       "  </svg>\n",
       "      </button>\n",
       "      \n",
       "  <style>\n",
       "    .colab-df-container {\n",
       "      display:flex;\n",
       "      flex-wrap:wrap;\n",
       "      gap: 12px;\n",
       "    }\n",
       "\n",
       "    .colab-df-convert {\n",
       "      background-color: #E8F0FE;\n",
       "      border: none;\n",
       "      border-radius: 50%;\n",
       "      cursor: pointer;\n",
       "      display: none;\n",
       "      fill: #1967D2;\n",
       "      height: 32px;\n",
       "      padding: 0 0 0 0;\n",
       "      width: 32px;\n",
       "    }\n",
       "\n",
       "    .colab-df-convert:hover {\n",
       "      background-color: #E2EBFA;\n",
       "      box-shadow: 0px 1px 2px rgba(60, 64, 67, 0.3), 0px 1px 3px 1px rgba(60, 64, 67, 0.15);\n",
       "      fill: #174EA6;\n",
       "    }\n",
       "\n",
       "    [theme=dark] .colab-df-convert {\n",
       "      background-color: #3B4455;\n",
       "      fill: #D2E3FC;\n",
       "    }\n",
       "\n",
       "    [theme=dark] .colab-df-convert:hover {\n",
       "      background-color: #434B5C;\n",
       "      box-shadow: 0px 1px 3px 1px rgba(0, 0, 0, 0.15);\n",
       "      filter: drop-shadow(0px 1px 2px rgba(0, 0, 0, 0.3));\n",
       "      fill: #FFFFFF;\n",
       "    }\n",
       "  </style>\n",
       "\n",
       "      <script>\n",
       "        const buttonEl =\n",
       "          document.querySelector('#df-2f95f23d-1c1e-4fd6-8223-d4b9f1039e66 button.colab-df-convert');\n",
       "        buttonEl.style.display =\n",
       "          google.colab.kernel.accessAllowed ? 'block' : 'none';\n",
       "\n",
       "        async function convertToInteractive(key) {\n",
       "          const element = document.querySelector('#df-2f95f23d-1c1e-4fd6-8223-d4b9f1039e66');\n",
       "          const dataTable =\n",
       "            await google.colab.kernel.invokeFunction('convertToInteractive',\n",
       "                                                     [key], {});\n",
       "          if (!dataTable) return;\n",
       "\n",
       "          const docLinkHtml = 'Like what you see? Visit the ' +\n",
       "            '<a target=\"_blank\" href=https://colab.research.google.com/notebooks/data_table.ipynb>data table notebook</a>'\n",
       "            + ' to learn more about interactive tables.';\n",
       "          element.innerHTML = '';\n",
       "          dataTable['output_type'] = 'display_data';\n",
       "          await google.colab.output.renderOutput(dataTable, element);\n",
       "          const docLink = document.createElement('div');\n",
       "          docLink.innerHTML = docLinkHtml;\n",
       "          element.appendChild(docLink);\n",
       "        }\n",
       "      </script>\n",
       "    </div>\n",
       "  </div>\n",
       "  "
      ]
     },
     "metadata": {},
     "execution_count": 65
    }
   ]
  },
  {
   "cell_type": "markdown",
   "source": [
    "Let's look at the frequency of words in the Restaurant Menus"
   ],
   "metadata": {
    "id": "y44-07owadrc"
   }
  },
  {
   "cell_type": "code",
   "source": [
    "# Calculate Frequency Distribution\n",
    "num_words          = 20\n",
    "wt                 = WhitespaceTokenizer()\n",
    "clean_tokens       = wt.tokenize(''.join([d for d in combined_df['Cleaned Items']]))\n",
    "freq_dist          = FreqDist(clean_tokens)\n",
    "common_x, common_y = [t[0] for t in freq_dist.most_common(num_words)], [t[1] for t in freq_dist.most_common(num_words)]\n",
    "\n",
    "print(freq_dist.most_common(num_words))\n",
    "plt.title(f'{num_words} Most Frequent Words')\n",
    "plt.bar(common_x, common_y)\n",
    "plt.xticks(rotation=90)\n",
    "plt.show()"
   ],
   "metadata": {
    "colab": {
     "base_uri": "https://localhost:8080/",
     "height": 362
    },
    "id": "6FjiWI0jrY4J",
    "outputId": "08729ce7-4cd2-43a0-cbed-18ce107ba258"
   },
   "execution_count": 66,
   "outputs": [
    {
     "output_type": "stream",
     "name": "stdout",
     "text": [
      "[('chicken', 435), ('oz', 339), ('cheese', 248), ('pizza', 238), ('large', 221), ('cream', 208), ('chocolate', 198), ('salad', 180), ('sauce', 177), ('small', 154), ('ice', 137), ('sandwich', 122), ('rice', 122), ('milk', 114), ('smoothie', 110), ('regular', 103), ('beef', 103), ('dressing', 102), ('vanilla', 97), ('strawberry', 97)]\n"
     ]
    },
    {
     "output_type": "display_data",
     "data": {
      "text/plain": [
       "<Figure size 432x288 with 1 Axes>"
      ],
      "image/png": "[encoded data removed]"
     },
     "metadata": {
      "needs_background": "light"
     }
    }
   ]
  },
  {
   "cell_type": "markdown",
   "source": [
    "As we can see in the plot, **chicken** occurs most frequently in the corpus followed by *cheese, pizza, cream* and *choclate*"
   ],
   "metadata": {
    "id": "UhF7LZ3DamG8"
   }
  },
  {
   "cell_type": "markdown",
   "source": [
    "## Fine-Tune Sentence Embeddings Model"
   ],
   "metadata": {
    "id": "oncLqXKusGqG"
   }
  },
  {
   "cell_type": "markdown",
   "source": [
    "We implement a class to fine-tune a Transformer model with the an addition pooling layer the embedding layer. This enables us to extract sentence embeddings for this task.\n",
    "\n",
    "\n",
    "The learning is performed in an unsupervised fashion to learn embeddings from the given food items dataset.\n",
    "\n",
    "The class `FineTune` performs this training and returns the sentence embeddings for the given data."
   ],
   "metadata": {
    "id": "ChnRItsUbGav"
   }
  },
  {
   "cell_type": "code",
   "source": [
    "class FineTune:\n",
    "\n",
    "    def __init__(self, model_name, max_epochs = 2, data_path = '/content/drive/MyDrive/Colab Notebooks/'):\n",
    "        self.model_name = model_name\n",
    "        self.max_epochs = max_epochs\n",
    "        self.data_path  = data_path\n",
    "        self.dataframe  = combined_df\n",
    "\n",
    "\n",
    "    def prepare_data(self):\n",
    "        train_dataset    = datasets.DenoisingAutoEncoderDataset(self.dataframe['Cleaned Items'])\n",
    "        train_dataloader = DataLoader(train_dataset, batch_size=8, shuffle=True)\n",
    "        return train_dataloader\n",
    "\n",
    "\n",
    "    def fine_tune(self,\n",
    "                  wdecay     = 0,\n",
    "                  lr         = 3e-5):\n",
    "\n",
    "        word_embedding_model = models.Transformer(self.model_name)\n",
    "        pooling_model        = models.Pooling( word_embedding_model.get_word_embedding_dimension(), 'cls' )\n",
    "        model                = SentenceTransformer( modules = [ word_embedding_model, pooling_model ] )\n",
    "\n",
    "        train_loss           = losses.DenoisingAutoEncoderLoss( model, decoder_name_or_path = self.model_name, tie_encoder_decoder=True )\n",
    "\n",
    "        # Data prep\n",
    "        sentences            = [ items for items in self.dataframe['Cleaned Items'] ]\n",
    "        train_dataset        = datasets.DenoisingAutoEncoderDataset(sentences)\n",
    "        train_dataloader     = DataLoader(train_dataset, batch_size=8, shuffle=True)\n",
    "\n",
    "        model.fit(\n",
    "            train_objectives   = [ ( train_dataloader, train_loss ) ],\n",
    "            epochs             = self.max_epochs,\n",
    "            weight_decay       = wdecay,\n",
    "            scheduler          = 'constantlr',\n",
    "            optimizer_params   = {'lr': lr },\n",
    "            show_progress_bar  = True\n",
    "        )\n",
    "        return model\n",
    "\n",
    "\n",
    "    def get_embeddings(self, model):\n",
    "        model.eval()\n",
    "        sentences = [ items for items in self.dataframe['Cleaned Items'] ]\n",
    "        return model.encode( sentences, batch_size=16, show_progress_bar=True, convert_to_tensor=True )\n",
    "\n",
    "\n",
    "    def visualize(self, embeddings):\n",
    "\n",
    "        # Reduce to 2 dimensions for visualization\n",
    "        umap_data        = UMAP(\n",
    "         n_components    = 2,\n",
    "         random_state    = 42).fit_transform(embeddings.cpu())\n",
    "\n",
    "        # Store 2D co-ordinates in dataframe for plotting\n",
    "        result           = pd.DataFrame(umap_data, columns=['x', 'y'])\n",
    "        result['labels'] = self.dataframe['Restaurant Name']\n",
    "\n",
    "        # Plot embeddings as scatter plot\n",
    "        plt.title(f'Sentence Embeddings after Fine-Tuning')\n",
    "        plt.scatter(result.x, result.y)\n",
    "        plt.savefig(f'{self.data_path}embeddings_viz_{self.model_name}.png')\n",
    "        plt.show()\n",
    "\n",
    "\n",
    "    def run(self):\n",
    "        # Fine-tune the model and extract embeddings\n",
    "        model           = self.fine_tune()\n",
    "        embeddings      = self.get_embeddings(model)\n",
    "        self.visualize(embeddings)\n",
    "        return embeddings"
   ],
   "metadata": {
    "id": "wkT17Fys5T3g"
   },
   "execution_count": 67,
   "outputs": []
  },
  {
   "cell_type": "markdown",
   "source": [
    "## Dimensionality Reduction"
   ],
   "metadata": {
    "id": "uPo3aR39daKW"
   }
  },
  {
   "cell_type": "markdown",
   "source": [
    "Dimensionality Reduction is performed to reduce the 784 dimensional sentence embedding vector to 50.\n",
    "\n",
    "Uniform Manifold Approximation and Projection (UMAP) was chosen since it [claims to](https://arxiv.org/abs/1802.03426) _preserves more of the global structure with superior run time performance._ as compared to t-SNE  "
   ],
   "metadata": {
    "id": "MRSD_HQSeVvZ"
   }
  },
  {
   "cell_type": "code",
   "source": [
    "def reduce_dims( embeddings,\n",
    "                 n_components = 50,\n",
    "                 n_neighbors  = 15,\n",
    "                 min_dist     = 0.1,\n",
    "                 metric       = 'cosine'):\n",
    "\n",
    "    return UMAP( n_neighbors  = n_neighbors,\n",
    "                 n_components = n_components,\n",
    "                 min_dist     = min_dist,\n",
    "                 metric       = metric,\n",
    "                 random_state = 42\n",
    "                ).fit_transform(embeddings)"
   ],
   "metadata": {
    "id": "mCyhXM3jWbcN"
   },
   "execution_count": 68,
   "outputs": []
  },
  {
   "cell_type": "markdown",
   "source": [
    "## Clustering the Sentence Embeddings"
   ],
   "metadata": {
    "id": "25q5EV0BdCeg"
   }
  },
  {
   "cell_type": "markdown",
   "source": [
    "We compare cluster outputs from two clustering methods on the 50 dimensional sentence embeddings."
   ],
   "metadata": {
    "id": "bF_IkQo4fOcX"
   }
  },
  {
   "cell_type": "markdown",
   "source": [
    "### K-Means Clustering"
   ],
   "metadata": {
    "id": "UHd5iPobdmjE"
   }
  },
  {
   "cell_type": "code",
   "source": [
    "def k_means_clustering(reduced_emb):\n",
    "    \"\"\"\n",
    "    K-means clustering on the dim reduced embeddings.\n",
    "    \"\"\"\n",
    "    return KMeans(n_clusters   = 10,\n",
    "                  random_state = 42\n",
    "                  ).fit(reduced_emb).labels_"
   ],
   "metadata": {
    "id": "bvPwKTbIdCE9"
   },
   "execution_count": 69,
   "outputs": []
  },
  {
   "cell_type": "markdown",
   "source": [
    "### HDB Scan Clustering"
   ],
   "metadata": {
    "id": "XnlcE6S6c_Th"
   }
  },
  {
   "cell_type": "code",
   "source": [
    "def hdb_clustering(reduced_emb):\n",
    "    \"\"\"\n",
    "    HDB clustering on the dim reduced embeddings.\n",
    "    \"\"\"\n",
    "    return hdbscan.HDBSCAN(min_cluster_size         = 5,\n",
    "                           min_samples              = 4,\n",
    "                           metric                   = 'euclidean',\n",
    "                           cluster_selection_method = 'eom'\n",
    "                          ).fit(reduced_emb).labels_"
   ],
   "metadata": {
    "id": "MK-ngXP6c_2C"
   },
   "execution_count": 133,
   "outputs": []
  },
  {
   "cell_type": "markdown",
   "source": [
    "### Cluster Visualization"
   ],
   "metadata": {
    "id": "oJBQzI4NdEfG"
   }
  },
  {
   "cell_type": "code",
   "source": [
    "def plot_clusters(reduced_emb, labels):\n",
    "    mapper = UMAP( n_neighbors  = 15,\n",
    "                   n_components = 2,\n",
    "                   min_dist     = 0.1,\n",
    "                   metric       = 'cosine',\n",
    "                   random_state = 42\n",
    "                   ).fit(reduced_emb)\n",
    "\n",
    "    umap.plot.points( mapper,\n",
    "                      labels = labels,\n",
    "                      theme  = 'fire')\n",
    "    plt.show()"
   ],
   "metadata": {
    "id": "Bun0RFktdE0Q"
   },
   "execution_count": 71,
   "outputs": []
  },
  {
   "cell_type": "markdown",
   "source": [
    "## Cluster Analysis"
   ],
   "metadata": {
    "id": "smN3EHKxfiW2"
   }
  },
  {
   "cell_type": "markdown",
   "source": [
    "The quantitative evaluation of the clustering done was done using two unsupervised clustering metrics:\n",
    "\n",
    "- Silhouette score\n",
    "- Calinski-Harabasz score"
   ],
   "metadata": {
    "id": "Ba5pBUFtmVie"
   }
  },
  {
   "cell_type": "code",
   "source": [
    "def cluster_analysis(reduced_emb, labels):\n",
    "    \"\"\"\n",
    "    Cluster analysis on the embeddings.\n",
    "    \"\"\"\n",
    "    plot_clusters(reduced_emb, labels)\n",
    "\n",
    "    sil_score = silhouette_score(reduced_emb, labels)\n",
    "    cal_score = calinski_harabasz_score(reduced_emb, labels)\n",
    "\n",
    "    print(f'Silhouette score: {sil_score}')\n",
    "    print(f'Calinski-Harabasz score: {cal_score}')"
   ],
   "metadata": {
    "id": "Vi-foUZxW7pd"
   },
   "execution_count": 31,
   "outputs": []
  },
  {
   "cell_type": "code",
   "source": [
    "def analyse_labels(label_df, num_words = 5):\n",
    "    for cluster in range(label_df.shape[0]):\n",
    "        clean_tokens       = wt.tokenize(''.join([d for d in hdb_df['Cleaned Items'][cluster]]))\n",
    "        freq_dist          = FreqDist(clean_tokens)\n",
    "        common_x, common_y = [ t[0] for t in freq_dist.most_common(num_words) ], [ t[1] for t in freq_dist.most_common(num_words) ]\n",
    "\n",
    "        plt.title(f'Most Frequent Words for Label {cluster+1}')\n",
    "        plt.bar(common_x, common_y)\n",
    "        plt.xticks(rotation=90)\n",
    "        plt.show()"
   ],
   "metadata": {
    "id": "xeOzhHWapit7"
   },
   "execution_count": 155,
   "outputs": []
  },
  {
   "cell_type": "markdown",
   "source": [
    "## Results"
   ],
   "metadata": {
    "id": "afkprC0MDY9e"
   }
  },
  {
   "cell_type": "markdown",
   "source": [
    "For the base Transformer to build the Sentence Transformer model, we use the `BERT BASE UNCASED` model. You can experiment with different models using the list [here](https://huggingface.co/models) and supply the name to the `FineTune` class. "
   ],
   "metadata": {
    "id": "FyGtKiQQfqxJ"
   }
  },
  {
   "cell_type": "code",
   "source": [
    "task       = FineTune( 'bert-base-uncased', max_epochs = 2 )\n",
    "embeddings = task.run()"
   ],
   "metadata": {
    "colab": {
     "base_uri": "https://localhost:8080/",
     "height": 603,
     "referenced_widgets": [
      "a82ddec0f4b3430b9599eeece89e364f",
      "daed5635db514b658d00969021da8a28",
      "b131be7a24ae41b1b6f84886243e7d5d",
      "f4d6112a598c4549ac541db685340228",
      "54304d04aa004dfa9f34f92d90006159",
      "1106289f0cdd4679a9d6e4f5d237f017",
      "fb4aa75335c44390be583fa969ec808f",
      "dfffd6efa0ff4fbb937abc6a45804cdd",
      "d615f74aea0340d283e6b00564d7c553",
      "2470d837abf5433098f1eebe2d3a0c13",
      "4bdc30499d064f2593acd9f290d680cc",
      "19f086bcefb64849bb48b0870f425558",
      "f679ed2cf2834d12bc2e51abba8708ca",
      "e06f5b68df0342e68f48404798edcc09",
      "077574dfbb72439bba62b431049791e8",
      "424956cd8d6341829aa91f8a34eca776",
      "fd6c43431a814e989d0b2af0fccd6b0e",
      "49254994e57342679a96f683966fe1a0",
      "0067c45182e240ea8182b7ee15de6538",
      "4a5fefc40ae54393b463ce8f9ab4e680",
      "014893071874468faf99657d9e4dbef6",
      "ed9acabe88c34fc5b176b764ef7ae506",
      "c57ad620219547e0b58dd668d9835d90",
      "6975e3502f8a44ac9012f6b56ce2767c",
      "9e7de4737a1c42eaa2acb86dc57f1e32",
      "dc92ab08ef9b453ea75e7cb786abbf33",
      "a8ebeb685ff941d2a1e2e1bfa8354b30",
      "cc684daeb0eb493da1f556c21b131c87",
      "75290db0f5294cc2b6a48a40b1bd57bc",
      "4f5c9bc87ea446fbb71fc38861a64ac5",
      "e01fd75020f54b0bbcf89f2429a12bec",
      "54e665c144f24596ad195fe39641366f",
      "92faf16abcfe4415af3c7d8682dfc9b5",
      "1720eed28a844b8faac86df36084dd5b",
      "6cb2b62b138c4daa84f7d1301f06b8a3",
      "52c5886b38fb48f9bee674d3c9c9fb78",
      "d37f62f4acda4568adf8646223cae6ad",
      "7fad67bcc46041d18e0d0c01343e526f",
      "a04ae29d0737438aa355a60ccc506253",
      "06df77b4d862480daf02fbda0658f377",
      "827c592ce55b434da7519ee706e2a563",
      "faa76915097f4757b27e951db8f50ea9",
      "066b5eb37f594b708c42867d58782e73",
      "883ee918c3014fd7a7aeb7c4ab9a3c89"
     ]
    },
    "id": "ekdWbXp8B8MO",
    "outputId": "077f5475-53b4-4f98-93ed-6f383c20ad78"
   },
   "execution_count": 97,
   "outputs": [
    {
     "output_type": "stream",
     "name": "stderr",
     "text": [
      "Some weights of the model checkpoint at bert-base-uncased were not used when initializing BertModel: ['cls.predictions.transform.dense.weight', 'cls.predictions.transform.LayerNorm.bias', 'cls.seq_relationship.bias', 'cls.seq_relationship.weight', 'cls.predictions.transform.dense.bias', 'cls.predictions.decoder.weight', 'cls.predictions.transform.LayerNorm.weight', 'cls.predictions.bias']\n",
      "- This IS expected if you are initializing BertModel from the checkpoint of a model trained on another task or with another architecture (e.g. initializing a BertForSequenceClassification model from a BertForPreTraining model).\n",
      "- This IS NOT expected if you are initializing BertModel from the checkpoint of a model that you expect to be exactly identical (initializing a BertForSequenceClassification model from a BertForSequenceClassification model).\n",
      "When tie_encoder_decoder=True, the decoder_name_or_path will be invalid.\n",
      "Some weights of the model checkpoint at bert-base-uncased were not used when initializing BertLMHeadModel: ['cls.seq_relationship.weight', 'cls.seq_relationship.bias']\n",
      "- This IS expected if you are initializing BertLMHeadModel from the checkpoint of a model trained on another task or with another architecture (e.g. initializing a BertForSequenceClassification model from a BertForPreTraining model).\n",
      "- This IS NOT expected if you are initializing BertLMHeadModel from the checkpoint of a model that you expect to be exactly identical (initializing a BertForSequenceClassification model from a BertForSequenceClassification model).\n",
      "Some weights of BertLMHeadModel were not initialized from the model checkpoint at bert-base-uncased and are newly initialized: ['bert.encoder.layer.6.crossattention.output.dense.bias', 'bert.encoder.layer.1.crossattention.self.value.bias', 'bert.encoder.layer.2.crossattention.self.query.weight', 'bert.encoder.layer.10.crossattention.self.query.weight', 'bert.encoder.layer.8.crossattention.output.LayerNorm.bias', 'bert.encoder.layer.9.crossattention.self.query.bias', 'bert.encoder.layer.6.crossattention.output.dense.weight', 'bert.encoder.layer.3.crossattention.output.dense.bias', 'bert.encoder.layer.8.crossattention.self.query.weight', 'bert.encoder.layer.5.crossattention.self.value.bias', 'bert.encoder.layer.7.crossattention.self.query.weight', 'bert.encoder.layer.6.crossattention.self.key.weight', 'bert.encoder.layer.2.crossattention.self.value.bias', 'bert.encoder.layer.8.crossattention.output.dense.bias', 'bert.encoder.layer.3.crossattention.self.key.bias', 'bert.encoder.layer.2.crossattention.self.value.weight', 'bert.encoder.layer.6.crossattention.output.LayerNorm.weight', 'bert.encoder.layer.6.crossattention.self.query.weight', 'bert.encoder.layer.5.crossattention.output.LayerNorm.bias', 'bert.encoder.layer.1.crossattention.self.key.bias', 'bert.encoder.layer.1.crossattention.output.dense.weight', 'bert.encoder.layer.5.crossattention.output.dense.bias', 'bert.encoder.layer.8.crossattention.output.LayerNorm.weight', 'bert.encoder.layer.8.crossattention.output.dense.weight', 'bert.encoder.layer.7.crossattention.self.key.bias', 'bert.encoder.layer.7.crossattention.self.key.weight', 'bert.encoder.layer.7.crossattention.output.dense.bias', 'bert.encoder.layer.4.crossattention.self.value.bias', 'bert.encoder.layer.4.crossattention.self.query.weight', 'bert.encoder.layer.10.crossattention.self.value.weight', 'bert.encoder.layer.8.crossattention.self.query.bias', 'bert.encoder.layer.9.crossattention.self.value.bias', 'bert.encoder.layer.5.crossattention.self.query.bias', 'bert.encoder.layer.1.crossattention.output.dense.bias', 'bert.encoder.layer.2.crossattention.output.dense.bias', 'bert.encoder.layer.5.crossattention.self.key.bias', 'bert.encoder.layer.4.crossattention.output.LayerNorm.bias', 'bert.encoder.layer.11.crossattention.self.value.weight', 'bert.encoder.layer.11.crossattention.self.value.bias', 'bert.encoder.layer.0.crossattention.self.query.weight', 'bert.encoder.layer.9.crossattention.output.LayerNorm.bias', 'bert.encoder.layer.0.crossattention.self.key.bias', 'bert.encoder.layer.3.crossattention.output.dense.weight', 'bert.encoder.layer.8.crossattention.self.value.weight', 'bert.encoder.layer.2.crossattention.self.key.weight', 'bert.encoder.layer.3.crossattention.self.key.weight', 'bert.encoder.layer.3.crossattention.self.query.bias', 'bert.encoder.layer.2.crossattention.self.query.bias', 'bert.encoder.layer.3.crossattention.self.query.weight', 'bert.encoder.layer.3.crossattention.self.value.weight', 'bert.encoder.layer.6.crossattention.self.value.weight', 'bert.encoder.layer.4.crossattention.self.value.weight', 'bert.encoder.layer.11.crossattention.output.LayerNorm.bias', 'bert.encoder.layer.0.crossattention.self.query.bias', 'bert.encoder.layer.7.crossattention.self.value.bias', 'bert.encoder.layer.5.crossattention.self.query.weight', 'bert.encoder.layer.5.crossattention.output.dense.weight', 'bert.encoder.layer.4.crossattention.output.dense.bias', 'bert.encoder.layer.7.crossattention.output.LayerNorm.weight', 'bert.encoder.layer.1.crossattention.output.LayerNorm.weight', 'bert.encoder.layer.2.crossattention.output.LayerNorm.bias', 'bert.encoder.layer.3.crossattention.output.LayerNorm.weight', 'bert.encoder.layer.10.crossattention.self.key.weight', 'bert.encoder.layer.8.crossattention.self.value.bias', 'bert.encoder.layer.10.crossattention.output.dense.bias', 'bert.encoder.layer.6.crossattention.self.value.bias', 'bert.encoder.layer.2.crossattention.self.key.bias', 'bert.encoder.layer.9.crossattention.self.key.bias', 'bert.encoder.layer.11.crossattention.self.key.weight', 'bert.encoder.layer.1.crossattention.self.query.bias', 'bert.encoder.layer.7.crossattention.output.LayerNorm.bias', 'bert.encoder.layer.7.crossattention.output.dense.weight', 'bert.encoder.layer.10.crossattention.self.query.bias', 'bert.encoder.layer.3.crossattention.output.LayerNorm.bias', 'bert.encoder.layer.9.crossattention.self.query.weight', 'bert.encoder.layer.9.crossattention.self.key.weight', 'bert.encoder.layer.2.crossattention.output.dense.weight', 'bert.encoder.layer.11.crossattention.self.key.bias', 'bert.encoder.layer.11.crossattention.self.query.weight', 'bert.encoder.layer.0.crossattention.output.LayerNorm.weight', 'bert.encoder.layer.1.crossattention.self.key.weight', 'bert.encoder.layer.7.crossattention.self.query.bias', 'bert.encoder.layer.0.crossattention.output.LayerNorm.bias', 'bert.encoder.layer.4.crossattention.self.query.bias', 'bert.encoder.layer.10.crossattention.output.dense.weight', 'bert.encoder.layer.10.crossattention.self.key.bias', 'bert.encoder.layer.4.crossattention.self.key.bias', 'bert.encoder.layer.4.crossattention.self.key.weight', 'bert.encoder.layer.1.crossattention.self.query.weight', 'bert.encoder.layer.11.crossattention.output.dense.weight', 'bert.encoder.layer.10.crossattention.self.value.bias', 'bert.encoder.layer.0.crossattention.self.value.weight', 'bert.encoder.layer.6.crossattention.output.LayerNorm.bias', 'bert.encoder.layer.0.crossattention.self.value.bias', 'bert.encoder.layer.9.crossattention.output.LayerNorm.weight', 'bert.encoder.layer.10.crossattention.output.LayerNorm.weight', 'bert.encoder.layer.8.crossattention.self.key.weight', 'bert.encoder.layer.11.crossattention.output.dense.bias', 'bert.encoder.layer.2.crossattention.output.LayerNorm.weight', 'bert.encoder.layer.9.crossattention.output.dense.weight', 'bert.encoder.layer.11.crossattention.self.query.bias', 'bert.encoder.layer.8.crossattention.self.key.bias', 'bert.encoder.layer.6.crossattention.self.query.bias', 'bert.encoder.layer.5.crossattention.self.key.weight', 'bert.encoder.layer.9.crossattention.output.dense.bias', 'bert.encoder.layer.5.crossattention.output.LayerNorm.weight', 'bert.encoder.layer.6.crossattention.self.key.bias', 'bert.encoder.layer.5.crossattention.self.value.weight', 'bert.encoder.layer.1.crossattention.output.LayerNorm.bias', 'bert.encoder.layer.9.crossattention.self.value.weight', 'bert.encoder.layer.1.crossattention.self.value.weight', 'bert.encoder.layer.7.crossattention.self.value.weight', 'bert.encoder.layer.10.crossattention.output.LayerNorm.bias', 'bert.encoder.layer.4.crossattention.output.LayerNorm.weight', 'bert.encoder.layer.11.crossattention.output.LayerNorm.weight', 'bert.encoder.layer.0.crossattention.output.dense.weight', 'bert.encoder.layer.0.crossattention.output.dense.bias', 'bert.encoder.layer.0.crossattention.self.key.weight', 'bert.encoder.layer.3.crossattention.self.value.bias', 'bert.encoder.layer.4.crossattention.output.dense.weight']\n",
      "You should probably TRAIN this model on a down-stream task to be able to use it for predictions and inference.\n",
      "The following encoder weights were not tied to the decoder ['bert/pooler']\n"
     ]
    },
    {
     "output_type": "display_data",
     "data": {
      "text/plain": [
       "Epoch:   0%|          | 0/2 [00:00<?, ?it/s]"
      ],
      "application/vnd.jupyter.widget-view+json": {
       "version_major": 2,
       "version_minor": 0,
       "model_id": "a82ddec0f4b3430b9599eeece89e364f"
      }
     },
     "metadata": {}
    },
    {
     "output_type": "display_data",
     "data": {
      "text/plain": [
       "Iteration:   0%|          | 0/43 [00:00<?, ?it/s]"
      ],
      "application/vnd.jupyter.widget-view+json": {
       "version_major": 2,
       "version_minor": 0,
       "model_id": "19f086bcefb64849bb48b0870f425558"
      }
     },
     "metadata": {}
    },
    {
     "output_type": "display_data",
     "data": {
      "text/plain": [
       "Iteration:   0%|          | 0/43 [00:00<?, ?it/s]"
      ],
      "application/vnd.jupyter.widget-view+json": {
       "version_major": 2,
       "version_minor": 0,
       "model_id": "c57ad620219547e0b58dd668d9835d90"
      }
     },
     "metadata": {}
    },
    {
     "output_type": "display_data",
     "data": {
      "text/plain": [
       "Batches:   0%|          | 0/22 [00:00<?, ?it/s]"
      ],
      "application/vnd.jupyter.widget-view+json": {
       "version_major": 2,
       "version_minor": 0,
       "model_id": "1720eed28a844b8faac86df36084dd5b"
      }
     },
     "metadata": {}
    },
    {
     "output_type": "display_data",
     "data": {
      "text/plain": [
       "<Figure size 432x288 with 1 Axes>"
      ],
      "image/png": "[encoded data removed]"
     },
     "metadata": {
      "needs_background": "light"
     }
    }
   ]
  },
  {
   "cell_type": "markdown",
   "source": [
    "Examples of other transformer models\n",
    "```\n",
    "'bert-base-cased'\n",
    "'bert-large-uncased'\n",
    "'bert-large-cased'\n",
    "'xlnet-base-cased'\n",
    "'xlnet-large-cased'\n",
    "'roberta-base'\n",
    "'roberta-large'\n",
    "'roberta-large-mnli'\n",
    "'roberta-large-mnli-mm'\n",
    "```\n",
    "\n"
   ],
   "metadata": {
    "id": "BgOkLJ0Zi7BA"
   }
  },
  {
   "cell_type": "code",
   "source": [
    "# Reduce Dimensionality for Clustering\n",
    "reduced_emb = reduce_dims(embeddings.cpu(), n_components = 20)"
   ],
   "metadata": {
    "id": "EgVK4MOzWpPM"
   },
   "execution_count": 101,
   "outputs": []
  },
  {
   "cell_type": "code",
   "source": [
    "# K-Means Clustering\n",
    "print(f'K-Means Clustering')\n",
    "kmeans_labels = k_means_clustering(reduced_emb)\n",
    "cluster_analysis(reduced_emb, kmeans_labels)"
   ],
   "metadata": {
    "colab": {
     "base_uri": "https://localhost:8080/",
     "height": 690
    },
    "id": "LEDBSrNvYk7p",
    "outputId": "fc2ccbd4-5340-4ec6-d859-fcd60e9bcc54"
   },
   "execution_count": 102,
   "outputs": [
    {
     "output_type": "stream",
     "name": "stdout",
     "text": [
      "K-Means Clustering\n"
     ]
    },
    {
     "output_type": "display_data",
     "data": {
      "text/plain": [
       "<Figure size 800x800 with 1 Axes>"
      ],
      "image/png": "[encoded data removed]"
     },
     "metadata": {}
    },
    {
     "output_type": "stream",
     "name": "stdout",
     "text": [
      "Silhouette score: 0.3659208416938782\n",
      "Calinski-Harabasz score: 391.9122885061257\n"
     ]
    }
   ]
  },
  {
   "cell_type": "code",
   "source": [
    "# HDB Scan Clustering\n",
    "print(f'HDB Scan Clustering')\n",
    "reduced_emb  = reduce_dims(embeddings.cpu(), n_components = 30)\n",
    "hdb_labels   = hdb_clustering(reduced_emb)\n",
    "cluster_analysis(reduced_emb, hdb_labels)"
   ],
   "metadata": {
    "colab": {
     "base_uri": "https://localhost:8080/",
     "height": 690
    },
    "id": "Rv44ho25YibO",
    "outputId": "1d337f08-a92d-4f18-b64f-379ffebf16c2"
   },
   "execution_count": 127,
   "outputs": [
    {
     "output_type": "stream",
     "name": "stdout",
     "text": [
      "HDB Scan Clustering\n"
     ]
    },
    {
     "output_type": "display_data",
     "data": {
      "text/plain": [
       "<Figure size 800x800 with 1 Axes>"
      ],
      "image/png": "[encoded data removed]"
     },
     "metadata": {}
    },
    {
     "output_type": "stream",
     "name": "stdout",
     "text": [
      "Silhouette score: 0.06848572194576263\n",
      "Calinski-Harabasz score: 65.16148660598063\n"
     ]
    }
   ]
  },
  {
   "cell_type": "markdown",
   "source": [
    "### Comparison of Index Scores"
   ],
   "metadata": {
    "id": "t_RDeL3BmIit"
   }
  },
  {
   "cell_type": "markdown",
   "source": [
    "We reduce the dimensionality to **30** for HDB Scan Clustering. The Silhouette Score is **significantly lower** than that of K-Means. \n",
    "Also, the Variance Ratio Criterion index is lower denoting poor clustering of the embeddings."
   ],
   "metadata": {
    "id": "VYCnLVYulXFY"
   }
  },
  {
   "cell_type": "markdown",
   "source": [
    "### Analyse Labels"
   ],
   "metadata": {
    "id": "glfDDdW0mPb2"
   }
  },
  {
   "cell_type": "markdown",
   "source": [
    "We can group the menu items for restaurants from the same cluster and calculate the frequency distribution. This will help us analyse the semantic relationship within the cluster."
   ],
   "metadata": {
    "id": "VN1rIQBjqLmg"
   }
  },
  {
   "cell_type": "code",
   "source": [
    "combined_df['HDB Labels']     = hdb_labels\n",
    "combined_df['K Means Labels'] = kmeans_labels\n",
    "combined_df"
   ],
   "metadata": {
    "colab": {
     "base_uri": "https://localhost:8080/",
     "height": 424
    },
    "id": "GP-doTq6k4wJ",
    "outputId": "541ff843-67c8-4867-884b-2cafad0bb7e8"
   },
   "execution_count": 132,
   "outputs": [
    {
     "output_type": "execute_result",
     "data": {
      "text/plain": [
       "         Restaurant Name                                 Original food Item  \\\n",
       "0              241 Pizza  Bacon Cheeseburger Pizza Medium Slice, Meat Lo...   \n",
       "1           A&W (Canada)  Apple Juice 12 oz, Bacon & Egger on Sesame See...   \n",
       "2                 Amay's                                     Almond Cookies   \n",
       "3    Ameci Pizza & Pasta  Large Ameci Deluxe Pizza, Chicken Caesar Salad...   \n",
       "4    America's Taco Shop  Jack Cheese, Carne Asada Quesadilla Regular, T...   \n",
       "..                   ...                                                ...   \n",
       "336          Yellow Tail                              Moscato, Pinot Grigio   \n",
       "337              YoCream  Plain, Very Strawberry, Pistachio Gelato, Silk...   \n",
       "338          Yogli Mogli  Carrot Cake, Pumpkin, Cookies N Cream, Mango T...   \n",
       "339            Yoshinoya  No Calorie Brisk Green Tea with Peach, Grilled...   \n",
       "340               Zapata                    Refried Beans Spicy, Dried Beef   \n",
       "\n",
       "                                         Cleaned Items  HDB Labels  \\\n",
       "0    bacon cheeseburger pizza medium slice meat lov...           3   \n",
       "1    apple juice 12 oz bacon egger sesame seed bun ...           3   \n",
       "2                                         almond cooky          12   \n",
       "3    large ameci deluxe pizza chicken caesar salad ...           4   \n",
       "4    jack cheese carne asada quesadilla regular tom...           3   \n",
       "..                                                 ...         ...   \n",
       "336                               moscato pinot grigio          13   \n",
       "337  plain strawberry pistachio gelato silk almondm...          10   \n",
       "338  carrot cake pumpkin cooky n cream mango tango ...          10   \n",
       "339  calorie brisk green tea peach grilled steak ki...           3   \n",
       "340                      refried bean spicy dried beef          -1   \n",
       "\n",
       "     K Means Labels  \n",
       "0                 6  \n",
       "1                 6  \n",
       "2                 7  \n",
       "3                 8  \n",
       "4                 6  \n",
       "..              ...  \n",
       "336               2  \n",
       "337               5  \n",
       "338               5  \n",
       "339               6  \n",
       "340               0  \n",
       "\n",
       "[341 rows x 5 columns]"
      ],
      "text/html": [
       "\n",
       "  <div id=\"df-54abb9e1-24be-436e-a3bf-5acddebbbf4b\">\n",
       "    <div class=\"colab-df-container\">\n",
       "      <div>\n",
       "<style scoped>\n",
       "    .dataframe tbody tr th:only-of-type {\n",
       "        vertical-align: middle;\n",
       "    }\n",
       "\n",
       "    .dataframe tbody tr th {\n",
       "        vertical-align: top;\n",
       "    }\n",
       "\n",
       "    .dataframe thead th {\n",
       "        text-align: right;\n",
       "    }\n",
       "</style>\n",
       "<table border=\"1\" class=\"dataframe\">\n",
       "  <thead>\n",
       "    <tr style=\"text-align: right;\">\n",
       "      <th></th>\n",
       "      <th>Restaurant Name</th>\n",
       "      <th>Original food Item</th>\n",
       "      <th>Cleaned Items</th>\n",
       "      <th>HDB Labels</th>\n",
       "      <th>K Means Labels</th>\n",
       "    </tr>\n",
       "  </thead>\n",
       "  <tbody>\n",
       "    <tr>\n",
       "      <th>0</th>\n",
       "      <td>241 Pizza</td>\n",
       "      <td>Bacon Cheeseburger Pizza Medium Slice, Meat Lo...</td>\n",
       "      <td>bacon cheeseburger pizza medium slice meat lov...</td>\n",
       "      <td>3</td>\n",
       "      <td>6</td>\n",
       "    </tr>\n",
       "    <tr>\n",
       "      <th>1</th>\n",
       "      <td>A&amp;W (Canada)</td>\n",
       "      <td>Apple Juice 12 oz, Bacon &amp; Egger on Sesame See...</td>\n",
       "      <td>apple juice 12 oz bacon egger sesame seed bun ...</td>\n",
       "      <td>3</td>\n",
       "      <td>6</td>\n",
       "    </tr>\n",
       "    <tr>\n",
       "      <th>2</th>\n",
       "      <td>Amay's</td>\n",
       "      <td>Almond Cookies</td>\n",
       "      <td>almond cooky</td>\n",
       "      <td>12</td>\n",
       "      <td>7</td>\n",
       "    </tr>\n",
       "    <tr>\n",
       "      <th>3</th>\n",
       "      <td>Ameci Pizza &amp; Pasta</td>\n",
       "      <td>Large Ameci Deluxe Pizza, Chicken Caesar Salad...</td>\n",
       "      <td>large ameci deluxe pizza chicken caesar salad ...</td>\n",
       "      <td>4</td>\n",
       "      <td>8</td>\n",
       "    </tr>\n",
       "    <tr>\n",
       "      <th>4</th>\n",
       "      <td>America's Taco Shop</td>\n",
       "      <td>Jack Cheese, Carne Asada Quesadilla Regular, T...</td>\n",
       "      <td>jack cheese carne asada quesadilla regular tom...</td>\n",
       "      <td>3</td>\n",
       "      <td>6</td>\n",
       "    </tr>\n",
       "    <tr>\n",
       "      <th>...</th>\n",
       "      <td>...</td>\n",
       "      <td>...</td>\n",
       "      <td>...</td>\n",
       "      <td>...</td>\n",
       "      <td>...</td>\n",
       "    </tr>\n",
       "    <tr>\n",
       "      <th>336</th>\n",
       "      <td>Yellow Tail</td>\n",
       "      <td>Moscato, Pinot Grigio</td>\n",
       "      <td>moscato pinot grigio</td>\n",
       "      <td>13</td>\n",
       "      <td>2</td>\n",
       "    </tr>\n",
       "    <tr>\n",
       "      <th>337</th>\n",
       "      <td>YoCream</td>\n",
       "      <td>Plain, Very Strawberry, Pistachio Gelato, Silk...</td>\n",
       "      <td>plain strawberry pistachio gelato silk almondm...</td>\n",
       "      <td>10</td>\n",
       "      <td>5</td>\n",
       "    </tr>\n",
       "    <tr>\n",
       "      <th>338</th>\n",
       "      <td>Yogli Mogli</td>\n",
       "      <td>Carrot Cake, Pumpkin, Cookies N Cream, Mango T...</td>\n",
       "      <td>carrot cake pumpkin cooky n cream mango tango ...</td>\n",
       "      <td>10</td>\n",
       "      <td>5</td>\n",
       "    </tr>\n",
       "    <tr>\n",
       "      <th>339</th>\n",
       "      <td>Yoshinoya</td>\n",
       "      <td>No Calorie Brisk Green Tea with Peach, Grilled...</td>\n",
       "      <td>calorie brisk green tea peach grilled steak ki...</td>\n",
       "      <td>3</td>\n",
       "      <td>6</td>\n",
       "    </tr>\n",
       "    <tr>\n",
       "      <th>340</th>\n",
       "      <td>Zapata</td>\n",
       "      <td>Refried Beans Spicy, Dried Beef</td>\n",
       "      <td>refried bean spicy dried beef</td>\n",
       "      <td>-1</td>\n",
       "      <td>0</td>\n",
       "    </tr>\n",
       "  </tbody>\n",
       "</table>\n",
       "<p>341 rows × 5 columns</p>\n",
       "</div>\n",
       "      <button class=\"colab-df-convert\" onclick=\"convertToInteractive('df-54abb9e1-24be-436e-a3bf-5acddebbbf4b')\"\n",
       "              title=\"Convert this dataframe to an interactive table.\"\n",
       "              style=\"display:none;\">\n",
       "        \n",
       "  <svg xmlns=\"http://www.w3.org/2000/svg\" height=\"24px\"viewBox=\"0 0 24 24\"\n",
       "       width=\"24px\">\n",
       "    <path d=\"M0 0h24v24H0V0z\" fill=\"none\"/>\n",
       "    <path d=\"M18.56 5.44l.94 2.06.94-2.06 2.06-.94-2.06-.94-.94-2.06-.94 2.06-2.06.94zm-11 1L8.5 8.5l.94-2.06 2.06-.94-2.06-.94L8.5 2.5l-.94 2.06-2.06.94zm10 10l.94 2.06.94-2.06 2.06-.94-2.06-.94-.94-2.06-.94 2.06-2.06.94z\"/><path d=\"M17.41 7.96l-1.37-1.37c-.4-.4-.92-.59-1.43-.59-.52 0-1.04.2-1.43.59L10.3 9.45l-7.72 7.72c-.78.78-.78 2.05 0 2.83L4 21.41c.39.39.9.59 1.41.59.51 0 1.02-.2 1.41-.59l7.78-7.78 2.81-2.81c.8-.78.8-2.07 0-2.86zM5.41 20L4 18.59l7.72-7.72 1.47 1.35L5.41 20z\"/>\n",
       "  </svg>\n",
       "      </button>\n",
       "      \n",
       "  <style>\n",
       "    .colab-df-container {\n",
       "      display:flex;\n",
       "      flex-wrap:wrap;\n",
       "      gap: 12px;\n",
       "    }\n",
       "\n",
       "    .colab-df-convert {\n",
       "      background-color: #E8F0FE;\n",
       "      border: none;\n",
       "      border-radius: 50%;\n",
       "      cursor: pointer;\n",
       "      display: none;\n",
       "      fill: #1967D2;\n",
       "      height: 32px;\n",
       "      padding: 0 0 0 0;\n",
       "      width: 32px;\n",
       "    }\n",
       "\n",
       "    .colab-df-convert:hover {\n",
       "      background-color: #E2EBFA;\n",
       "      box-shadow: 0px 1px 2px rgba(60, 64, 67, 0.3), 0px 1px 3px 1px rgba(60, 64, 67, 0.15);\n",
       "      fill: #174EA6;\n",
       "    }\n",
       "\n",
       "    [theme=dark] .colab-df-convert {\n",
       "      background-color: #3B4455;\n",
       "      fill: #D2E3FC;\n",
       "    }\n",
       "\n",
       "    [theme=dark] .colab-df-convert:hover {\n",
       "      background-color: #434B5C;\n",
       "      box-shadow: 0px 1px 3px 1px rgba(0, 0, 0, 0.15);\n",
       "      filter: drop-shadow(0px 1px 2px rgba(0, 0, 0, 0.3));\n",
       "      fill: #FFFFFF;\n",
       "    }\n",
       "  </style>\n",
       "\n",
       "      <script>\n",
       "        const buttonEl =\n",
       "          document.querySelector('#df-54abb9e1-24be-436e-a3bf-5acddebbbf4b button.colab-df-convert');\n",
       "        buttonEl.style.display =\n",
       "          google.colab.kernel.accessAllowed ? 'block' : 'none';\n",
       "\n",
       "        async function convertToInteractive(key) {\n",
       "          const element = document.querySelector('#df-54abb9e1-24be-436e-a3bf-5acddebbbf4b');\n",
       "          const dataTable =\n",
       "            await google.colab.kernel.invokeFunction('convertToInteractive',\n",
       "                                                     [key], {});\n",
       "          if (!dataTable) return;\n",
       "\n",
       "          const docLinkHtml = 'Like what you see? Visit the ' +\n",
       "            '<a target=\"_blank\" href=https://colab.research.google.com/notebooks/data_table.ipynb>data table notebook</a>'\n",
       "            + ' to learn more about interactive tables.';\n",
       "          element.innerHTML = '';\n",
       "          dataTable['output_type'] = 'display_data';\n",
       "          await google.colab.output.renderOutput(dataTable, element);\n",
       "          const docLink = document.createElement('div');\n",
       "          docLink.innerHTML = docLinkHtml;\n",
       "          element.appendChild(docLink);\n",
       "        }\n",
       "      </script>\n",
       "    </div>\n",
       "  </div>\n",
       "  "
      ]
     },
     "metadata": {},
     "execution_count": 132
    }
   ]
  },
  {
   "cell_type": "code",
   "source": [
    "hdb_df = combined_df.sort_values('HDB Labels')\n",
    "hdb_df = hdb_df.groupby(hdb_df['HDB Labels']).aggregate({'Cleaned Items': ', '.join}).reset_index()\n",
    "hdb_df"
   ],
   "metadata": {
    "colab": {
     "base_uri": "https://localhost:8080/",
     "height": 520
    },
    "id": "dufJWPesmfd4",
    "outputId": "24855d51-e74c-48d7-9afe-b6b9c8ac92bc"
   },
   "execution_count": 156,
   "outputs": [
    {
     "output_type": "execute_result",
     "data": {
      "text/plain": [
       "    HDB Labels                                      Cleaned Items\n",
       "0           -1  refried bean spicy dried beef, parmesan caesar...\n",
       "1            0  shrimp calamari ring crab cheese bite stuffed ...\n",
       "2            1  100 grated parmesan cheese bread crumb plain g...\n",
       "3            2  cranberry nut mix, dark chocolate pear cinnamo...\n",
       "4            3  margherita calzone t garden veggie pizza famil...\n",
       "5            4  extra meaty baby back pork rib sweet smoky bab...\n",
       "6            5  powerup fresh fruit yogurt cup americano small...\n",
       "7            6  planet pro veg 32g strawberry acai smoothie 32...\n",
       "8            7  sliced bamboo shoot baby corn small whole cock...\n",
       "9            8  raisin, steak mushroom cheddar flatbread melt,...\n",
       "10           9  pudding pie filling instant vanilla pie fillin...\n",
       "11          10  cookie mix chocolate chip hamburger helper sal...\n",
       "12          11  pistachio, red kidney bean, pecan praline, bab...\n",
       "13          12  parmesan cheese freshly grated gnocchi potato,...\n",
       "14          13  noodle king, moscato pinot grigio, part skim r..."
      ],
      "text/html": [
       "\n",
       "  <div id=\"df-87f238cc-5038-473e-954f-ed8ed0e95f72\">\n",
       "    <div class=\"colab-df-container\">\n",
       "      <div>\n",
       "<style scoped>\n",
       "    .dataframe tbody tr th:only-of-type {\n",
       "        vertical-align: middle;\n",
       "    }\n",
       "\n",
       "    .dataframe tbody tr th {\n",
       "        vertical-align: top;\n",
       "    }\n",
       "\n",
       "    .dataframe thead th {\n",
       "        text-align: right;\n",
       "    }\n",
       "</style>\n",
       "<table border=\"1\" class=\"dataframe\">\n",
       "  <thead>\n",
       "    <tr style=\"text-align: right;\">\n",
       "      <th></th>\n",
       "      <th>HDB Labels</th>\n",
       "      <th>Cleaned Items</th>\n",
       "    </tr>\n",
       "  </thead>\n",
       "  <tbody>\n",
       "    <tr>\n",
       "      <th>0</th>\n",
       "      <td>-1</td>\n",
       "      <td>refried bean spicy dried beef, parmesan caesar...</td>\n",
       "    </tr>\n",
       "    <tr>\n",
       "      <th>1</th>\n",
       "      <td>0</td>\n",
       "      <td>shrimp calamari ring crab cheese bite stuffed ...</td>\n",
       "    </tr>\n",
       "    <tr>\n",
       "      <th>2</th>\n",
       "      <td>1</td>\n",
       "      <td>100 grated parmesan cheese bread crumb plain g...</td>\n",
       "    </tr>\n",
       "    <tr>\n",
       "      <th>3</th>\n",
       "      <td>2</td>\n",
       "      <td>cranberry nut mix, dark chocolate pear cinnamo...</td>\n",
       "    </tr>\n",
       "    <tr>\n",
       "      <th>4</th>\n",
       "      <td>3</td>\n",
       "      <td>margherita calzone t garden veggie pizza famil...</td>\n",
       "    </tr>\n",
       "    <tr>\n",
       "      <th>5</th>\n",
       "      <td>4</td>\n",
       "      <td>extra meaty baby back pork rib sweet smoky bab...</td>\n",
       "    </tr>\n",
       "    <tr>\n",
       "      <th>6</th>\n",
       "      <td>5</td>\n",
       "      <td>powerup fresh fruit yogurt cup americano small...</td>\n",
       "    </tr>\n",
       "    <tr>\n",
       "      <th>7</th>\n",
       "      <td>6</td>\n",
       "      <td>planet pro veg 32g strawberry acai smoothie 32...</td>\n",
       "    </tr>\n",
       "    <tr>\n",
       "      <th>8</th>\n",
       "      <td>7</td>\n",
       "      <td>sliced bamboo shoot baby corn small whole cock...</td>\n",
       "    </tr>\n",
       "    <tr>\n",
       "      <th>9</th>\n",
       "      <td>8</td>\n",
       "      <td>raisin, steak mushroom cheddar flatbread melt,...</td>\n",
       "    </tr>\n",
       "    <tr>\n",
       "      <th>10</th>\n",
       "      <td>9</td>\n",
       "      <td>pudding pie filling instant vanilla pie fillin...</td>\n",
       "    </tr>\n",
       "    <tr>\n",
       "      <th>11</th>\n",
       "      <td>10</td>\n",
       "      <td>cookie mix chocolate chip hamburger helper sal...</td>\n",
       "    </tr>\n",
       "    <tr>\n",
       "      <th>12</th>\n",
       "      <td>11</td>\n",
       "      <td>pistachio, red kidney bean, pecan praline, bab...</td>\n",
       "    </tr>\n",
       "    <tr>\n",
       "      <th>13</th>\n",
       "      <td>12</td>\n",
       "      <td>parmesan cheese freshly grated gnocchi potato,...</td>\n",
       "    </tr>\n",
       "    <tr>\n",
       "      <th>14</th>\n",
       "      <td>13</td>\n",
       "      <td>noodle king, moscato pinot grigio, part skim r...</td>\n",
       "    </tr>\n",
       "  </tbody>\n",
       "</table>\n",
       "</div>\n",
       "      <button class=\"colab-df-convert\" onclick=\"convertToInteractive('df-87f238cc-5038-473e-954f-ed8ed0e95f72')\"\n",
       "              title=\"Convert this dataframe to an interactive table.\"\n",
       "              style=\"display:none;\">\n",
       "        \n",
       "  <svg xmlns=\"http://www.w3.org/2000/svg\" height=\"24px\"viewBox=\"0 0 24 24\"\n",
       "       width=\"24px\">\n",
       "    <path d=\"M0 0h24v24H0V0z\" fill=\"none\"/>\n",
       "    <path d=\"M18.56 5.44l.94 2.06.94-2.06 2.06-.94-2.06-.94-.94-2.06-.94 2.06-2.06.94zm-11 1L8.5 8.5l.94-2.06 2.06-.94-2.06-.94L8.5 2.5l-.94 2.06-2.06.94zm10 10l.94 2.06.94-2.06 2.06-.94-2.06-.94-.94-2.06-.94 2.06-2.06.94z\"/><path d=\"M17.41 7.96l-1.37-1.37c-.4-.4-.92-.59-1.43-.59-.52 0-1.04.2-1.43.59L10.3 9.45l-7.72 7.72c-.78.78-.78 2.05 0 2.83L4 21.41c.39.39.9.59 1.41.59.51 0 1.02-.2 1.41-.59l7.78-7.78 2.81-2.81c.8-.78.8-2.07 0-2.86zM5.41 20L4 18.59l7.72-7.72 1.47 1.35L5.41 20z\"/>\n",
       "  </svg>\n",
       "      </button>\n",
       "      \n",
       "  <style>\n",
       "    .colab-df-container {\n",
       "      display:flex;\n",
       "      flex-wrap:wrap;\n",
       "      gap: 12px;\n",
       "    }\n",
       "\n",
       "    .colab-df-convert {\n",
       "      background-color: #E8F0FE;\n",
       "      border: none;\n",
       "      border-radius: 50%;\n",
       "      cursor: pointer;\n",
       "      display: none;\n",
       "      fill: #1967D2;\n",
       "      height: 32px;\n",
       "      padding: 0 0 0 0;\n",
       "      width: 32px;\n",
       "    }\n",
       "\n",
       "    .colab-df-convert:hover {\n",
       "      background-color: #E2EBFA;\n",
       "      box-shadow: 0px 1px 2px rgba(60, 64, 67, 0.3), 0px 1px 3px 1px rgba(60, 64, 67, 0.15);\n",
       "      fill: #174EA6;\n",
       "    }\n",
       "\n",
       "    [theme=dark] .colab-df-convert {\n",
       "      background-color: #3B4455;\n",
       "      fill: #D2E3FC;\n",
       "    }\n",
       "\n",
       "    [theme=dark] .colab-df-convert:hover {\n",
       "      background-color: #434B5C;\n",
       "      box-shadow: 0px 1px 3px 1px rgba(0, 0, 0, 0.15);\n",
       "      filter: drop-shadow(0px 1px 2px rgba(0, 0, 0, 0.3));\n",
       "      fill: #FFFFFF;\n",
       "    }\n",
       "  </style>\n",
       "\n",
       "      <script>\n",
       "        const buttonEl =\n",
       "          document.querySelector('#df-87f238cc-5038-473e-954f-ed8ed0e95f72 button.colab-df-convert');\n",
       "        buttonEl.style.display =\n",
       "          google.colab.kernel.accessAllowed ? 'block' : 'none';\n",
       "\n",
       "        async function convertToInteractive(key) {\n",
       "          const element = document.querySelector('#df-87f238cc-5038-473e-954f-ed8ed0e95f72');\n",
       "          const dataTable =\n",
       "            await google.colab.kernel.invokeFunction('convertToInteractive',\n",
       "                                                     [key], {});\n",
       "          if (!dataTable) return;\n",
       "\n",
       "          const docLinkHtml = 'Like what you see? Visit the ' +\n",
       "            '<a target=\"_blank\" href=https://colab.research.google.com/notebooks/data_table.ipynb>data table notebook</a>'\n",
       "            + ' to learn more about interactive tables.';\n",
       "          element.innerHTML = '';\n",
       "          dataTable['output_type'] = 'display_data';\n",
       "          await google.colab.output.renderOutput(dataTable, element);\n",
       "          const docLink = document.createElement('div');\n",
       "          docLink.innerHTML = docLinkHtml;\n",
       "          element.appendChild(docLink);\n",
       "        }\n",
       "      </script>\n",
       "    </div>\n",
       "  </div>\n",
       "  "
      ]
     },
     "metadata": {},
     "execution_count": 156
    }
   ]
  },
  {
   "cell_type": "code",
   "source": [
    "analyse_labels(hdb_df)"
   ],
   "metadata": {
    "colab": {
     "base_uri": "https://localhost:8080/",
     "height": 1000
    },
    "id": "iYK_SrGNo3oh",
    "outputId": "0b923c01-c815-4af6-c544-c7d6d54a3767"
   },
   "execution_count": 154,
   "outputs": [
    {
     "output_type": "display_data",
     "data": {
      "text/plain": [
       "<Figure size 432x288 with 1 Axes>"
      ],
      "image/png": "[encoded data removed]"
     },
     "metadata": {
      "needs_background": "light"
     }
    },
    {
     "output_type": "display_data",
     "data": {
      "text/plain": [
       "<Figure size 432x288 with 1 Axes>"
      ],
      "image/png": "[encoded data removed]"
     },
     "metadata": {
      "needs_background": "light"
     }
    },
    {
     "output_type": "display_data",
     "data": {
      "text/plain": [
       "<Figure size 432x288 with 1 Axes>"
      ],
      "image/png": "[encoded data removed]"
     },
     "metadata": {
      "needs_background": "light"
     }
    },
    {
     "output_type": "display_data",
     "data": {
      "text/plain": [
       "<Figure size 432x288 with 1 Axes>"
      ],
      "image/png": "[encoded data removed]"
     },
     "metadata": {
      "needs_background": "light"
     }
    },
    {
     "output_type": "display_data",
     "data": {
      "text/plain": [
       "<Figure size 432x288 with 1 Axes>"
      ],
      "image/png": "[encoded data removed]"
     },
     "metadata": {
      "needs_background": "light"
     }
    },
    {
     "output_type": "display_data",
     "data": {
      "text/plain": [
       "<Figure size 432x288 with 1 Axes>"
      ],
      "image/png": "[encoded data removed]"
     },
     "metadata": {
      "needs_background": "light"
     }
    },
    {
     "output_type": "display_data",
     "data": {
      "text/plain": [
       "<Figure size 432x288 with 1 Axes>"
      ],
      "image/png": "[encoded data removed]"
     },
     "metadata": {
      "needs_background": "light"
     }
    },
    {
     "output_type": "display_data",
     "data": {
      "text/plain": [
       "<Figure size 432x288 with 1 Axes>"
      ],
      "image/png": "[encoded data removed]"
     },
     "metadata": {
      "needs_background": "light"
     }
    },
    {
     "output_type": "display_data",
     "data": {
      "text/plain": [
       "<Figure size 432x288 with 1 Axes>"
      ],
      "image/png": "[encoded data removed]"
     },
     "metadata": {
      "needs_background": "light"
     }
    },
    {
     "output_type": "display_data",
     "data": {
      "text/plain": [
       "<Figure size 432x288 with 1 Axes>"
      ],
      "image/png": "[encoded data removed]"
     },
     "metadata": {
      "needs_background": "light"
     }
    },
    {
     "output_type": "display_data",
     "data": {
      "text/plain": [
       "<Figure size 432x288 with 1 Axes>"
      ],
      "image/png": "[encoded data removed]"
     },
     "metadata": {
      "needs_background": "light"
     }
    },
    {
     "output_type": "display_data",
     "data": {
      "text/plain": [
       "<Figure size 432x288 with 1 Axes>"
      ],
      "image/png": "[encoded data removed]"
     },
     "metadata": {
      "needs_background": "light"
     }
    },
    {
     "output_type": "display_data",
     "data": {
      "text/plain": [
       "<Figure size 432x288 with 1 Axes>"
      ],
      "image/png": "[encoded data removed]"
     },
     "metadata": {
      "needs_background": "light"
     }
    },
    {
     "output_type": "display_data",
     "data": {
      "text/plain": [
       "<Figure size 432x288 with 1 Axes>"
      ],
      "image/png": "[encoded data removed]"
     },
     "metadata": {
      "needs_background": "light"
     }
    },
    {
     "output_type": "display_data",
     "data": {
      "text/plain": [
       "<Figure size 432x288 with 1 Axes>"
      ],
      "image/png": "[encoded data removed]"
     },
     "metadata": {
      "needs_background": "light"
     }
    }
   ]
  },
  {
   "cell_type": "code",
   "source": [
    "kmeans_df = combined_df.sort_values('K Means Labels')\n",
    "kmeans_df = kmeans_df.groupby(kmeans_df['K Means Labels']).aggregate({'Cleaned Items': ', '.join}).reset_index()\n",
    "kmeans_df"
   ],
   "metadata": {
    "colab": {
     "base_uri": "https://localhost:8080/",
     "height": 363
    },
    "id": "RuwuB_TFmvOP",
    "outputId": "90816836-deeb-410f-dd04-0aff33101f29"
   },
   "execution_count": 158,
   "outputs": [
    {
     "output_type": "execute_result",
     "data": {
      "text/plain": [
       "   K Means Labels                                      Cleaned Items\n",
       "0               0  refried bean spicy dried beef, peanut salted s...\n",
       "1               1  bagel blueberry bagel cream cheese bagel egg c...\n",
       "2               2  creme brulee, original snappy beer cheese, toc...\n",
       "3               3  teriyaki salmon burger wild alaskan pink salmo...\n",
       "4               4  cheese tortellini stuffed shell ricotta cavate...\n",
       "5               5  hard candy butterscotch rich chocolate cookie ...\n",
       "6               6  junior jax pork rice bowl kid mandarin orange ...\n",
       "7               7  pecan praline, blueberry pomegranate chia dres...\n",
       "8               8  steak tip natural ranch steak natural cube ste...\n",
       "9               9  bagel dog polish sausage straw smoked chorizo ..."
      ],
      "text/html": [
       "\n",
       "  <div id=\"df-493cfd40-77e8-4602-ad1c-5c3e10f1e9c1\">\n",
       "    <div class=\"colab-df-container\">\n",
       "      <div>\n",
       "<style scoped>\n",
       "    .dataframe tbody tr th:only-of-type {\n",
       "        vertical-align: middle;\n",
       "    }\n",
       "\n",
       "    .dataframe tbody tr th {\n",
       "        vertical-align: top;\n",
       "    }\n",
       "\n",
       "    .dataframe thead th {\n",
       "        text-align: right;\n",
       "    }\n",
       "</style>\n",
       "<table border=\"1\" class=\"dataframe\">\n",
       "  <thead>\n",
       "    <tr style=\"text-align: right;\">\n",
       "      <th></th>\n",
       "      <th>K Means Labels</th>\n",
       "      <th>Cleaned Items</th>\n",
       "    </tr>\n",
       "  </thead>\n",
       "  <tbody>\n",
       "    <tr>\n",
       "      <th>0</th>\n",
       "      <td>0</td>\n",
       "      <td>refried bean spicy dried beef, peanut salted s...</td>\n",
       "    </tr>\n",
       "    <tr>\n",
       "      <th>1</th>\n",
       "      <td>1</td>\n",
       "      <td>bagel blueberry bagel cream cheese bagel egg c...</td>\n",
       "    </tr>\n",
       "    <tr>\n",
       "      <th>2</th>\n",
       "      <td>2</td>\n",
       "      <td>creme brulee, original snappy beer cheese, toc...</td>\n",
       "    </tr>\n",
       "    <tr>\n",
       "      <th>3</th>\n",
       "      <td>3</td>\n",
       "      <td>teriyaki salmon burger wild alaskan pink salmo...</td>\n",
       "    </tr>\n",
       "    <tr>\n",
       "      <th>4</th>\n",
       "      <td>4</td>\n",
       "      <td>cheese tortellini stuffed shell ricotta cavate...</td>\n",
       "    </tr>\n",
       "    <tr>\n",
       "      <th>5</th>\n",
       "      <td>5</td>\n",
       "      <td>hard candy butterscotch rich chocolate cookie ...</td>\n",
       "    </tr>\n",
       "    <tr>\n",
       "      <th>6</th>\n",
       "      <td>6</td>\n",
       "      <td>junior jax pork rice bowl kid mandarin orange ...</td>\n",
       "    </tr>\n",
       "    <tr>\n",
       "      <th>7</th>\n",
       "      <td>7</td>\n",
       "      <td>pecan praline, blueberry pomegranate chia dres...</td>\n",
       "    </tr>\n",
       "    <tr>\n",
       "      <th>8</th>\n",
       "      <td>8</td>\n",
       "      <td>steak tip natural ranch steak natural cube ste...</td>\n",
       "    </tr>\n",
       "    <tr>\n",
       "      <th>9</th>\n",
       "      <td>9</td>\n",
       "      <td>bagel dog polish sausage straw smoked chorizo ...</td>\n",
       "    </tr>\n",
       "  </tbody>\n",
       "</table>\n",
       "</div>\n",
       "      <button class=\"colab-df-convert\" onclick=\"convertToInteractive('df-493cfd40-77e8-4602-ad1c-5c3e10f1e9c1')\"\n",
       "              title=\"Convert this dataframe to an interactive table.\"\n",
       "              style=\"display:none;\">\n",
       "        \n",
       "  <svg xmlns=\"http://www.w3.org/2000/svg\" height=\"24px\"viewBox=\"0 0 24 24\"\n",
       "       width=\"24px\">\n",
       "    <path d=\"M0 0h24v24H0V0z\" fill=\"none\"/>\n",
       "    <path d=\"M18.56 5.44l.94 2.06.94-2.06 2.06-.94-2.06-.94-.94-2.06-.94 2.06-2.06.94zm-11 1L8.5 8.5l.94-2.06 2.06-.94-2.06-.94L8.5 2.5l-.94 2.06-2.06.94zm10 10l.94 2.06.94-2.06 2.06-.94-2.06-.94-.94-2.06-.94 2.06-2.06.94z\"/><path d=\"M17.41 7.96l-1.37-1.37c-.4-.4-.92-.59-1.43-.59-.52 0-1.04.2-1.43.59L10.3 9.45l-7.72 7.72c-.78.78-.78 2.05 0 2.83L4 21.41c.39.39.9.59 1.41.59.51 0 1.02-.2 1.41-.59l7.78-7.78 2.81-2.81c.8-.78.8-2.07 0-2.86zM5.41 20L4 18.59l7.72-7.72 1.47 1.35L5.41 20z\"/>\n",
       "  </svg>\n",
       "      </button>\n",
       "      \n",
       "  <style>\n",
       "    .colab-df-container {\n",
       "      display:flex;\n",
       "      flex-wrap:wrap;\n",
       "      gap: 12px;\n",
       "    }\n",
       "\n",
       "    .colab-df-convert {\n",
       "      background-color: #E8F0FE;\n",
       "      border: none;\n",
       "      border-radius: 50%;\n",
       "      cursor: pointer;\n",
       "      display: none;\n",
       "      fill: #1967D2;\n",
       "      height: 32px;\n",
       "      padding: 0 0 0 0;\n",
       "      width: 32px;\n",
       "    }\n",
       "\n",
       "    .colab-df-convert:hover {\n",
       "      background-color: #E2EBFA;\n",
       "      box-shadow: 0px 1px 2px rgba(60, 64, 67, 0.3), 0px 1px 3px 1px rgba(60, 64, 67, 0.15);\n",
       "      fill: #174EA6;\n",
       "    }\n",
       "\n",
       "    [theme=dark] .colab-df-convert {\n",
       "      background-color: #3B4455;\n",
       "      fill: #D2E3FC;\n",
       "    }\n",
       "\n",
       "    [theme=dark] .colab-df-convert:hover {\n",
       "      background-color: #434B5C;\n",
       "      box-shadow: 0px 1px 3px 1px rgba(0, 0, 0, 0.15);\n",
       "      filter: drop-shadow(0px 1px 2px rgba(0, 0, 0, 0.3));\n",
       "      fill: #FFFFFF;\n",
       "    }\n",
       "  </style>\n",
       "\n",
       "      <script>\n",
       "        const buttonEl =\n",
       "          document.querySelector('#df-493cfd40-77e8-4602-ad1c-5c3e10f1e9c1 button.colab-df-convert');\n",
       "        buttonEl.style.display =\n",
       "          google.colab.kernel.accessAllowed ? 'block' : 'none';\n",
       "\n",
       "        async function convertToInteractive(key) {\n",
       "          const element = document.querySelector('#df-493cfd40-77e8-4602-ad1c-5c3e10f1e9c1');\n",
       "          const dataTable =\n",
       "            await google.colab.kernel.invokeFunction('convertToInteractive',\n",
       "                                                     [key], {});\n",
       "          if (!dataTable) return;\n",
       "\n",
       "          const docLinkHtml = 'Like what you see? Visit the ' +\n",
       "            '<a target=\"_blank\" href=https://colab.research.google.com/notebooks/data_table.ipynb>data table notebook</a>'\n",
       "            + ' to learn more about interactive tables.';\n",
       "          element.innerHTML = '';\n",
       "          dataTable['output_type'] = 'display_data';\n",
       "          await google.colab.output.renderOutput(dataTable, element);\n",
       "          const docLink = document.createElement('div');\n",
       "          docLink.innerHTML = docLinkHtml;\n",
       "          element.appendChild(docLink);\n",
       "        }\n",
       "      </script>\n",
       "    </div>\n",
       "  </div>\n",
       "  "
      ]
     },
     "metadata": {},
     "execution_count": 158
    }
   ]
  },
  {
   "cell_type": "code",
   "source": [
    "analyse_labels(kmeans_df)"
   ],
   "metadata": {
    "colab": {
     "base_uri": "https://localhost:8080/",
     "height": 1000
    },
    "id": "kiyUE2Z0qA4V",
    "outputId": "bd941154-7c3a-4439-a058-d2a8d21222ad"
   },
   "execution_count": 159,
   "outputs": [
    {
     "output_type": "display_data",
     "data": {
      "text/plain": [
       "<Figure size 432x288 with 1 Axes>"
      ],
      "image/png": "[encoded data removed]"
     },
     "metadata": {
      "needs_background": "light"
     }
    },
    {
     "output_type": "display_data",
     "data": {
      "text/plain": [
       "<Figure size 432x288 with 1 Axes>"
      ],
      "image/png": "[encoded data removed]"
     },
     "metadata": {
      "needs_background": "light"
     }
    },
    {
     "output_type": "display_data",
     "data": {
      "text/plain": [
       "<Figure size 432x288 with 1 Axes>"
      ],
      "image/png": "[encoded data removed]"
     },
     "metadata": {
      "needs_background": "light"
     }
    },
    {
     "output_type": "display_data",
     "data": {
      "text/plain": [
       "<Figure size 432x288 with 1 Axes>"
      ],
      "image/png": "[encoded data removed]"
     },
     "metadata": {
      "needs_background": "light"
     }
    },
    {
     "output_type": "display_data",
     "data": {
      "text/plain": [
       "<Figure size 432x288 with 1 Axes>"
      ],
      "image/png": "[encoded data removed]"
     },
     "metadata": {
      "needs_background": "light"
     }
    },
    {
     "output_type": "display_data",
     "data": {
      "text/plain": [
       "<Figure size 432x288 with 1 Axes>"
      ],
      "image/png": "[encoded data removed]"
     },
     "metadata": {
      "needs_background": "light"
     }
    },
    {
     "output_type": "display_data",
     "data": {
      "text/plain": [
       "<Figure size 432x288 with 1 Axes>"
      ],
      "image/png": "[encoded data removed]"
     },
     "metadata": {
      "needs_background": "light"
     }
    },
    {
     "output_type": "display_data",
     "data": {
      "text/plain": [
       "<Figure size 432x288 with 1 Axes>"
      ],
      "image/png": "[encoded data removed]"
     },
     "metadata": {
      "needs_background": "light"
     }
    },
    {
     "output_type": "display_data",
     "data": {
      "text/plain": [
       "<Figure size 432x288 with 1 Axes>"
      ],
      "image/png": "[encoded data removed]"
     },
     "metadata": {
      "needs_background": "light"
     }
    },
    {
     "output_type": "display_data",
     "data": {
      "text/plain": [
       "<Figure size 432x288 with 1 Axes>"
      ],
      "image/png": "[encoded data removed]"
     },
     "metadata": {
      "needs_background": "light"
     }
    }
   ]
  },
  {
   "cell_type": "markdown",
   "source": [
    "### Group Restaurants from same clusters"
   ],
   "metadata": {
    "id": "k9XAWRPHs5nY"
   }
  },
  {
   "cell_type": "code",
   "source": [
    "grouped = combined_df.sort_values('K Means Labels')\n",
    "grouped = grouped.groupby( grouped['K Means Labels'] ).aggregate( { 'Restaurant Name': ', '.join } ).reset_index()\n",
    "grouped.T"
   ],
   "metadata": {
    "colab": {
     "base_uri": "https://localhost:8080/",
     "height": 243
    },
    "id": "FrDfhfe1tNkj",
    "outputId": "e7ac978d-25ff-482c-e9d8-f470e9656ec3"
   },
   "execution_count": 165,
   "outputs": [
    {
     "output_type": "execute_result",
     "data": {
      "text/plain": [
       "                                                                 0  \\\n",
       "K Means Labels                                                   0   \n",
       "Restaurant Name  Zapata, Texas Roadhouse, Martel, Marie Callend...   \n",
       "\n",
       "                                                                 1  \\\n",
       "K Means Labels                                                   1   \n",
       "Restaurant Name  Duck Donuts, Harris Teeter, Cracker Barrel, Du...   \n",
       "\n",
       "                                                                 2  \\\n",
       "K Means Labels                                                   2   \n",
       "Restaurant Name  Emeril, Hall's, PFC, Paone, Henny's, Frey's, Y...   \n",
       "\n",
       "                                                                 3  \\\n",
       "K Means Labels                                                   3   \n",
       "Restaurant Name  Henry & Lisa's, Rushing Waters, Mrs. Friday's,...   \n",
       "\n",
       "                                                                 4  \\\n",
       "K Means Labels                                                   4   \n",
       "Restaurant Name  Rizzo's, Maninis, Ivar's, Tom and Chee, Delmon...   \n",
       "\n",
       "                                                                 5  \\\n",
       "K Means Labels                                                   5   \n",
       "Restaurant Name  Mandy's, Maizena, Capri Sun, Gail Ambrosius, M...   \n",
       "\n",
       "                                                                 6  \\\n",
       "K Means Labels                                                   6   \n",
       "Restaurant Name  Pepperjax Grill, Roy Rogers Restaurants, Silve...   \n",
       "\n",
       "                                                                 7  \\\n",
       "K Means Labels                                                   7   \n",
       "Restaurant Name  Nanny's, Organic Drew's, Molina, Emily Kate's,...   \n",
       "\n",
       "                                                                 8  \\\n",
       "K Means Labels                                                   8   \n",
       "Restaurant Name  Tender Bison, Tom's, Tubby's, Tyson, Triple O'...   \n",
       "\n",
       "                                                                 9  \n",
       "K Means Labels                                                   9  \n",
       "Restaurant Name  Benny's, Burger King, Whitey's Ice Cream, Wild...  "
      ],
      "text/html": [
       "\n",
       "  <div id=\"df-888b7f83-f91a-4c8f-bef9-ba2e06f54bce\">\n",
       "    <div class=\"colab-df-container\">\n",
       "      <div>\n",
       "<style scoped>\n",
       "    .dataframe tbody tr th:only-of-type {\n",
       "        vertical-align: middle;\n",
       "    }\n",
       "\n",
       "    .dataframe tbody tr th {\n",
       "        vertical-align: top;\n",
       "    }\n",
       "\n",
       "    .dataframe thead th {\n",
       "        text-align: right;\n",
       "    }\n",
       "</style>\n",
       "<table border=\"1\" class=\"dataframe\">\n",
       "  <thead>\n",
       "    <tr style=\"text-align: right;\">\n",
       "      <th></th>\n",
       "      <th>0</th>\n",
       "      <th>1</th>\n",
       "      <th>2</th>\n",
       "      <th>3</th>\n",
       "      <th>4</th>\n",
       "      <th>5</th>\n",
       "      <th>6</th>\n",
       "      <th>7</th>\n",
       "      <th>8</th>\n",
       "      <th>9</th>\n",
       "    </tr>\n",
       "  </thead>\n",
       "  <tbody>\n",
       "    <tr>\n",
       "      <th>K Means Labels</th>\n",
       "      <td>0</td>\n",
       "      <td>1</td>\n",
       "      <td>2</td>\n",
       "      <td>3</td>\n",
       "      <td>4</td>\n",
       "      <td>5</td>\n",
       "      <td>6</td>\n",
       "      <td>7</td>\n",
       "      <td>8</td>\n",
       "      <td>9</td>\n",
       "    </tr>\n",
       "    <tr>\n",
       "      <th>Restaurant Name</th>\n",
       "      <td>Zapata, Texas Roadhouse, Martel, Marie Callend...</td>\n",
       "      <td>Duck Donuts, Harris Teeter, Cracker Barrel, Du...</td>\n",
       "      <td>Emeril, Hall's, PFC, Paone, Henny's, Frey's, Y...</td>\n",
       "      <td>Henry &amp; Lisa's, Rushing Waters, Mrs. Friday's,...</td>\n",
       "      <td>Rizzo's, Maninis, Ivar's, Tom and Chee, Delmon...</td>\n",
       "      <td>Mandy's, Maizena, Capri Sun, Gail Ambrosius, M...</td>\n",
       "      <td>Pepperjax Grill, Roy Rogers Restaurants, Silve...</td>\n",
       "      <td>Nanny's, Organic Drew's, Molina, Emily Kate's,...</td>\n",
       "      <td>Tender Bison, Tom's, Tubby's, Tyson, Triple O'...</td>\n",
       "      <td>Benny's, Burger King, Whitey's Ice Cream, Wild...</td>\n",
       "    </tr>\n",
       "  </tbody>\n",
       "</table>\n",
       "</div>\n",
       "      <button class=\"colab-df-convert\" onclick=\"convertToInteractive('df-888b7f83-f91a-4c8f-bef9-ba2e06f54bce')\"\n",
       "              title=\"Convert this dataframe to an interactive table.\"\n",
       "              style=\"display:none;\">\n",
       "        \n",
       "  <svg xmlns=\"http://www.w3.org/2000/svg\" height=\"24px\"viewBox=\"0 0 24 24\"\n",
       "       width=\"24px\">\n",
       "    <path d=\"M0 0h24v24H0V0z\" fill=\"none\"/>\n",
       "    <path d=\"M18.56 5.44l.94 2.06.94-2.06 2.06-.94-2.06-.94-.94-2.06-.94 2.06-2.06.94zm-11 1L8.5 8.5l.94-2.06 2.06-.94-2.06-.94L8.5 2.5l-.94 2.06-2.06.94zm10 10l.94 2.06.94-2.06 2.06-.94-2.06-.94-.94-2.06-.94 2.06-2.06.94z\"/><path d=\"M17.41 7.96l-1.37-1.37c-.4-.4-.92-.59-1.43-.59-.52 0-1.04.2-1.43.59L10.3 9.45l-7.72 7.72c-.78.78-.78 2.05 0 2.83L4 21.41c.39.39.9.59 1.41.59.51 0 1.02-.2 1.41-.59l7.78-7.78 2.81-2.81c.8-.78.8-2.07 0-2.86zM5.41 20L4 18.59l7.72-7.72 1.47 1.35L5.41 20z\"/>\n",
       "  </svg>\n",
       "      </button>\n",
       "      \n",
       "  <style>\n",
       "    .colab-df-container {\n",
       "      display:flex;\n",
       "      flex-wrap:wrap;\n",
       "      gap: 12px;\n",
       "    }\n",
       "\n",
       "    .colab-df-convert {\n",
       "      background-color: #E8F0FE;\n",
       "      border: none;\n",
       "      border-radius: 50%;\n",
       "      cursor: pointer;\n",
       "      display: none;\n",
       "      fill: #1967D2;\n",
       "      height: 32px;\n",
       "      padding: 0 0 0 0;\n",
       "      width: 32px;\n",
       "    }\n",
       "\n",
       "    .colab-df-convert:hover {\n",
       "      background-color: #E2EBFA;\n",
       "      box-shadow: 0px 1px 2px rgba(60, 64, 67, 0.3), 0px 1px 3px 1px rgba(60, 64, 67, 0.15);\n",
       "      fill: #174EA6;\n",
       "    }\n",
       "\n",
       "    [theme=dark] .colab-df-convert {\n",
       "      background-color: #3B4455;\n",
       "      fill: #D2E3FC;\n",
       "    }\n",
       "\n",
       "    [theme=dark] .colab-df-convert:hover {\n",
       "      background-color: #434B5C;\n",
       "      box-shadow: 0px 1px 3px 1px rgba(0, 0, 0, 0.15);\n",
       "      filter: drop-shadow(0px 1px 2px rgba(0, 0, 0, 0.3));\n",
       "      fill: #FFFFFF;\n",
       "    }\n",
       "  </style>\n",
       "\n",
       "      <script>\n",
       "        const buttonEl =\n",
       "          document.querySelector('#df-888b7f83-f91a-4c8f-bef9-ba2e06f54bce button.colab-df-convert');\n",
       "        buttonEl.style.display =\n",
       "          google.colab.kernel.accessAllowed ? 'block' : 'none';\n",
       "\n",
       "        async function convertToInteractive(key) {\n",
       "          const element = document.querySelector('#df-888b7f83-f91a-4c8f-bef9-ba2e06f54bce');\n",
       "          const dataTable =\n",
       "            await google.colab.kernel.invokeFunction('convertToInteractive',\n",
       "                                                     [key], {});\n",
       "          if (!dataTable) return;\n",
       "\n",
       "          const docLinkHtml = 'Like what you see? Visit the ' +\n",
       "            '<a target=\"_blank\" href=https://colab.research.google.com/notebooks/data_table.ipynb>data table notebook</a>'\n",
       "            + ' to learn more about interactive tables.';\n",
       "          element.innerHTML = '';\n",
       "          dataTable['output_type'] = 'display_data';\n",
       "          await google.colab.output.renderOutput(dataTable, element);\n",
       "          const docLink = document.createElement('div');\n",
       "          docLink.innerHTML = docLinkHtml;\n",
       "          element.appendChild(docLink);\n",
       "        }\n",
       "      </script>\n",
       "    </div>\n",
       "  </div>\n",
       "  "
      ]
     },
     "metadata": {},
     "execution_count": 165
    }
   ]
  },
  {
   "cell_type": "markdown",
   "source": [
    "## Final Thoughts"
   ],
   "metadata": {
    "id": "ngLVi9QquqAP"
   }
  },
  {
   "cell_type": "markdown",
   "source": [
    "For the given set of paramters, K-Means clustering seemingly outperforms HDB Scan clustering for the given dataset.\n",
    "\n",
    "However, there is plenty of hyper-parameter tuning for the dimensions and clustering parameters that can be done for the `bert-base-uncased` and other listed models.\n",
    "\n",
    "\n",
    "This notebook present reproducible code for quick experimentation and hyper-parameter tuning with the `MenuItems.csv` dataset."
   ],
   "metadata": {
    "id": "6nX7CnrBuPkU"
   }
  }
 ]
}